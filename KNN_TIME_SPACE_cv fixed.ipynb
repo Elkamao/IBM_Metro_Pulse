{
 "cells": [
  {
   "cell_type": "code",
   "execution_count": 5,
   "metadata": {
    "collapsed": true
   },
   "outputs": [],
   "source": [
    "from sklearn import neighbors\n",
    "from sklearn import preprocessing\n",
    "from arch.bootstrap import StationaryBootstrap\n",
    "import numpy as np\n",
    "import matplotlib.pyplot as plt\n",
    "import pandas as pd\n",
    "import datetime as dt\n",
    "import math\n",
    "import sys\n",
    "import random\n",
    "from itertools import chain"
   ]
  },
  {
   "cell_type": "code",
   "execution_count": 4,
   "metadata": {
    "collapsed": false
   },
   "outputs": [],
   "source": [
    "#read training and cross validation set\n",
    "total = pd.read_csv(\"time_space.csv\")\n",
    "n = total.shape[0]\n",
    "num_tract = 1758\n",
    "\n",
    "total = total.drop(total.columns[0], axis = 1) #delete index\n",
    "\n",
    "tract_id = total['GEOID']\n",
    "total = total.drop(total.columns[0], axis = 1) #delete tract_geoid\n",
    "    \n",
    "mp_date = total['MP_DATE']\n",
    "origin = dt.datetime.strptime(total.loc[0, 'MP_DATE'],'%Y-%m-%d').date()\n",
    "for i in range(n):\n",
    "    now = dt.datetime.strptime(total.loc[i, 'MP_DATE'],'%Y-%m-%d').date()\n",
    "    total.loc[i, 'MP_DATE'] = (now - origin).days/30.0    \n",
    "values = total['values']\n",
    "total = total.drop(total.columns[3], axis = 1) #delete values\n",
    "\n",
    "test = pd.read_csv(\"test_data.csv\")\n",
    "m = test.shape[0]\n",
    "test = test.drop(test.columns[0], axis = 1) #delete index\n",
    "test_geoid = test['GEOID']\n",
    "test = test.drop(test.columns[0], axis = 1) #delete GEOID\n",
    "for i in range(m):\n",
    "    now = dt.datetime.strptime(test.loc[i, 'MP_DATE'],'%Y-%m-%d').date()\n",
    "    test.loc[i, 'MP_DATE'] = (now - origin).days/30.0"
   ]
  },
  {
   "cell_type": "code",
   "execution_count": 6,
   "metadata": {
    "collapsed": false
   },
   "outputs": [
    {
     "name": "stderr",
     "output_type": "stream",
     "text": [
      "C:\\Users\\green\\Anaconda3\\lib\\site-packages\\sklearn\\utils\\validation.py:429: DataConversionWarning: Data with input dtype object was converted to float64 by the scale function.\n",
      "  warnings.warn(msg, _DataConversionWarning)\n"
     ]
    }
   ],
   "source": [
    "#scale dates\n",
    "total['MP_DATE'] = preprocessing.scale(total['MP_DATE'])\n",
    "test['MP_DATE'] = preprocessing.scale(test['MP_DATE'])"
   ]
  },
  {
   "cell_type": "code",
   "execution_count": 3,
   "metadata": {
    "collapsed": true
   },
   "outputs": [],
   "source": [
    "for blocksize in range(25):\n",
    "    print(\"Current Block Size: \"+str(blocksize))\n",
    "    \n",
    "    #get 10 block bootstrapping samples\n",
    "    for j in range(num_tract):\n",
    "        sub_data = total.iloc[63*j:63*(j+1)]\n",
    "        bs = StationaryBootstrap(blocksize, sub_data)\n",
    "        if j == 0:\n",
    "            train_lst = [data[0][0] for data in bs.bootstrap(10)]\n",
    "        else:\n",
    "            i = 0\n",
    "            for data in bs.bootstrap(10):\n",
    "                train_lst[i] = train_lst[i].append(data[0][0])\n",
    "                i += 1\n",
    "    print(\"Finish Bootstrapping\")\n",
    "\n",
    "            \n",
    "    #get unselected samples as my cross validation\n",
    "    ind_all = set(total.index)\n",
    "    ind_diff = []\n",
    "    possible_oob = set(chain.from_iterable([list(range(63*k+24,63*(k+1)+1)) for k in range(1758)]))\n",
    "    d_oob_learner = dict()\n",
    "    d_oob_cv = dict()\n",
    "\n",
    "    for i in range(10):\n",
    "        ind_unselected = list(possible_oob.intersection(ind_all - set(train_lst[i].index)))\n",
    "        print(len(ind_unselected))\n",
    "        for item in ind_unselected:\n",
    "            try:\n",
    "                d_oob_learner[item] += [i]\n",
    "            except:\n",
    "                d_oob_learner[item] = [i]\n",
    "        d_oob_cv[i] = ind_unselected\n",
    "    print(\"Finish collecting feasible OOB for CV and prediction\")\n",
    "    \n",
    "    \n",
    "    #find best k for each bootstrapping sample --> model parameter\n",
    "    best_k_lst = []\n",
    "    best_mae_lst = []\n",
    "    symbol_lst = []\n",
    "    y_ = []\n",
    "    for i in range(10):\n",
    "        train_y = train_lst[i]['dv'] #get dependent variable\n",
    "        train_x = train_lst[i].drop(train_lst[i].columns[3], axis = 1) #delete dependent variables\n",
    "\n",
    "        best_mae = sys.maxsize\n",
    "        for k in range(1, 32, 5):\n",
    "            knn = neighbors.KNeighborsRegressor(k, weights ='distance')\n",
    "            y_ = []\n",
    "            y_mean = 0\n",
    "            y_symbol = 0\n",
    "            cv_times = range(51,62)\n",
    "            for cv_time in cv_times:\n",
    "                train_id = list(chain.from_iterable([list(range(63*k,(63*k+cv_time))) for k in range(num_tract)]))\n",
    "                test_id = [63*k+cv_time for k in range(num_tract)]\n",
    "            #print(test_id)\n",
    "                y_predict = knn.fit(train_x.iloc[train_id], train_y.iloc[train_id]).predict(train_x.iloc[test_id])\n",
    "                y_ += [y_predict]\n",
    "                mae = np.mean(abs(y_predict - train_y.iloc[test_id]))\n",
    "                y_mean += mae\n",
    "                y_symbol += sum(y_predict*train_y.iloc[test_id]>=0)/len(y_predict)\n",
    "            y_mean = y_mean / len(cv_times)\n",
    "            y_symbol = y_symbol / len(cv_times)\n",
    "            if y_mean < best_mae:\n",
    "                best_mae = y_mean\n",
    "                best_k = k\n",
    "                symbol = y_symbol\n",
    "                print((i, k, best_mae))\n",
    "        best_mae_lst.append(best_mae)\n",
    "        best_k_lst.append(best_k)\n",
    "        symbol_lst.append(symbol)\n",
    "\n"
   ]
  },
  {
   "cell_type": "code",
   "execution_count": 8,
   "metadata": {
    "collapsed": false
   },
   "outputs": [
    {
     "name": "stdout",
     "output_type": "stream",
     "text": [
      "Finish Bootstrapping\n",
      "21194\n",
      "20545\n",
      "20679\n",
      "20999\n",
      "20612\n",
      "20925\n",
      "20817\n",
      "20666\n",
      "21085\n",
      "20756\n",
      "Finish collecting feasible OOB for CV and prediction\n"
     ]
    }
   ],
   "source": [
    "blocksize = 12\n",
    "#get 10 block bootstrapping samples\n",
    "for j in range(num_tract):\n",
    "    sub_data = total.iloc[63*j:63*(j+1)]\n",
    "    bs = StationaryBootstrap(blocksize, sub_data)\n",
    "    if j == 0:\n",
    "        train_lst = [data[0][0] for data in bs.bootstrap(10)]\n",
    "    else:\n",
    "        i = 0\n",
    "        for data in bs.bootstrap(10):\n",
    "            train_lst[i] = train_lst[i].append(data[0][0])\n",
    "            i += 1\n",
    "print(\"Finish Bootstrapping\")\n",
    "\n",
    "            \n",
    "#get unselected samples as my cross validation\n",
    "ind_all = set(total.index)\n",
    "ind_diff = []\n",
    "possible_oob = set(chain.from_iterable([list(range(63*k+24,63*(k+1)+1)) for k in range(1758)]))\n",
    "d_oob_learner = dict()\n",
    "d_oob_cv = dict()\n",
    "\n",
    "for i in range(10):\n",
    "    ind_unselected = list(possible_oob.intersection(ind_all - set(train_lst[i].index)))\n",
    "    print(len(ind_unselected))\n",
    "    for item in ind_unselected:\n",
    "        try:\n",
    "            d_oob_learner[item] += [i]\n",
    "        except:\n",
    "            d_oob_learner[item] = [i]\n",
    "    d_oob_cv[i] = ind_unselected\n",
    "print(\"Finish collecting feasible OOB for CV and prediction\")\n"
   ]
  },
  {
   "cell_type": "code",
   "execution_count": 9,
   "metadata": {
    "collapsed": false
   },
   "outputs": [
    {
     "name": "stdout",
     "output_type": "stream",
     "text": [
      "(0, 1, 2.690420963401648)\n",
      "(0, 3, 2.68033571837211)\n",
      "(0, 4, 2.6529363539328923)\n",
      "(0, 5, 2.642269203623425)\n",
      "(1, 1, 3.069289277209133)\n",
      "(2, 1, 1.6872328383511097)\n",
      "(2, 2, 1.5810313765165567)\n",
      "(2, 3, 1.5233652249628393)\n",
      "(3, 1, 2.097679922864808)\n",
      "(4, 1, 1.479672375725491)\n",
      "(4, 2, 1.4150462137731472)\n",
      "(5, 1, 1.3163989491627865)\n",
      "(5, 2, 1.3010089496839228)\n",
      "(5, 3, 1.2417739468091336)\n",
      "(5, 4, 1.2274953261031791)\n",
      "(6, 1, 2.3903927173083477)\n",
      "(7, 1, 2.230914108926723)\n",
      "(7, 2, 2.106074197882031)\n",
      "(8, 1, 1.6211847335899827)\n",
      "(9, 1, 2.0911705729589887)\n",
      "(9, 2, 1.9083798110090895)\n",
      "(9, 4, 1.8964054919886977)\n"
     ]
    }
   ],
   "source": [
    "#find best k for each bootstrapping sample --> model parameter\n",
    "best_k_lst = []\n",
    "best_mae_lst = []\n",
    "symbol_lst = []\n",
    "y_ = []\n",
    "for i in range(10):\n",
    "    train_y = train_lst[i]['dv'] #get dependent variable\n",
    "    train_x = train_lst[i].drop(train_lst[i].columns[3], axis = 1) #delete dependent variables\n",
    "\n",
    "    best_mae = sys.maxsize\n",
    "    for k in range(1, 11, 1):\n",
    "        knn = neighbors.KNeighborsRegressor(k, weights ='distance')\n",
    "        y_ = []\n",
    "        y_mean = 0\n",
    "        y_symbol = 0\n",
    "        cv_times = range(51,62)\n",
    "        for cv_time in cv_times:\n",
    "            train_id = list(chain.from_iterable([list(range(63*k,(63*k+cv_time))) for k in range(num_tract)]))\n",
    "            test_id = [63*k+cv_time for k in range(num_tract)]\n",
    "            #print(test_id)\n",
    "            y_predict = knn.fit(train_x.iloc[train_id], train_y.iloc[train_id]).predict(train_x.iloc[test_id])\n",
    "            y_ += [y_predict]\n",
    "            mae = np.mean(abs(y_predict - train_y.iloc[test_id]))\n",
    "            y_mean += mae\n",
    "            y_symbol += sum(y_predict*train_y.iloc[test_id]>=0)/len(y_predict)\n",
    "        y_mean = y_mean / len(cv_times)\n",
    "        y_symbol = y_symbol / len(cv_times)\n",
    "        if y_mean < best_mae:\n",
    "            best_mae = y_mean\n",
    "            best_k = k\n",
    "            symbol = y_symbol\n",
    "            print((i, k, best_mae))\n",
    "    best_mae_lst.append(best_mae)\n",
    "    best_k_lst.append(best_k)\n",
    "    symbol_lst.append(symbol)"
   ]
  },
  {
   "cell_type": "code",
   "execution_count": 11,
   "metadata": {
    "collapsed": false
   },
   "outputs": [
    {
     "data": {
      "text/plain": [
       "[5, 1, 3, 1, 2, 4, 1, 2, 1, 4]"
      ]
     },
     "execution_count": 11,
     "metadata": {},
     "output_type": "execute_result"
    }
   ],
   "source": [
    "best_k_lst"
   ]
  },
  {
   "cell_type": "code",
   "execution_count": 28,
   "metadata": {
    "collapsed": false
   },
   "outputs": [
    {
     "name": "stderr",
     "output_type": "stream",
     "text": [
      "C:\\Users\\green\\Anaconda3\\lib\\site-packages\\matplotlib\\pyplot.py:524: RuntimeWarning: More than 20 figures have been opened. Figures created through the pyplot interface (`matplotlib.pyplot.figure`) are retained until explicitly closed and may consume too much memory. (To control this warning, see the rcParam `figure.max_open_warning`).\n",
      "  max_open_warning, RuntimeWarning)\n"
     ]
    },
    {
     "data": {
      "text/plain": [
       "0.96023373668424861"
      ]
     },
     "execution_count": 28,
     "metadata": {},
     "output_type": "execute_result"
    }
   ],
   "source": [
    "#draw correct rate\n",
    "plt.figure(figsize=(8,6), dpi=60)\n",
    "plt.plot(range(10), symbol_lst, 'k')\n",
    "plt.savefig(\"final_results/accuracy.png\", dpi = 60)\n",
    "np.mean(symbol_lst)"
   ]
  },
  {
   "cell_type": "code",
   "execution_count": 29,
   "metadata": {
    "collapsed": false
   },
   "outputs": [
    {
     "name": "stderr",
     "output_type": "stream",
     "text": [
      "C:\\Users\\green\\Anaconda3\\lib\\site-packages\\matplotlib\\pyplot.py:524: RuntimeWarning: More than 20 figures have been opened. Figures created through the pyplot interface (`matplotlib.pyplot.figure`) are retained until explicitly closed and may consume too much memory. (To control this warning, see the rcParam `figure.max_open_warning`).\n",
      "  max_open_warning, RuntimeWarning)\n"
     ]
    },
    {
     "data": {
      "text/plain": [
       "1.9989202309305589"
      ]
     },
     "execution_count": 29,
     "metadata": {},
     "output_type": "execute_result"
    }
   ],
   "source": [
    "#draw MAE\n",
    "plt.figure(figsize=(8,6), dpi=60)\n",
    "plt.plot(range(10), best_mae_lst, 'k')\n",
    "plt.savefig(\"final_results/MAE.png\", dpi = 60)\n",
    "np.mean(best_mae_lst)"
   ]
  },
  {
   "cell_type": "code",
   "execution_count": 14,
   "metadata": {
    "collapsed": false
   },
   "outputs": [],
   "source": [
    "#get predictions\n",
    "y_pre_lst = []\n",
    "for i in range(10):\n",
    "    train_y = train_lst[i]['dv'] #get dependent variable\n",
    "    train_x = train_lst[i].drop(train_lst[i].columns[3], axis = 1) #delete dependent variables\n",
    "    knn = neighbors.KNeighborsRegressor(best_k_lst[i], weights ='distance')\n",
    "    y_pre = knn.fit(train_x, train_y).predict(test)\n",
    "    y_pre_lst.append(y_pre)\n",
    "y_pre_mat = np.array(y_pre_lst)\n",
    "y_final_pre = np.mean(y_pre_mat, 0)"
   ]
  },
  {
   "cell_type": "code",
   "execution_count": 15,
   "metadata": {
    "collapsed": false,
    "scrolled": true
   },
   "outputs": [],
   "source": [
    "# draw graphs to show predictions of each tract\n",
    "for i in range(1758):\n",
    "    filename = \"figure/%d.png\" % i\n",
    "    plt.figure(figsize=(8,6), dpi=60)\n",
    "    plt.plot(range(12), y_final_pre[i*12:(i+1)*12], 'k')\n",
    "    plt.savefig(filename, dpi = 60)"
   ]
  },
  {
   "cell_type": "code",
   "execution_count": 25,
   "metadata": {
    "collapsed": false
   },
   "outputs": [
    {
     "name": "stderr",
     "output_type": "stream",
     "text": [
      "C:\\Users\\green\\Anaconda3\\lib\\site-packages\\matplotlib\\pyplot.py:524: RuntimeWarning: More than 20 figures have been opened. Figures created through the pyplot interface (`matplotlib.pyplot.figure`) are retained until explicitly closed and may consume too much memory. (To control this warning, see the rcParam `figure.max_open_warning`).\n",
      "  max_open_warning, RuntimeWarning)\n"
     ]
    }
   ],
   "source": [
    "#output average increase rates for each tract\n",
    "unique_tract = list((set(tract_id)))\n",
    "tract_rate = []\n",
    "for i in range(1758):\n",
    "    future_rate = y_final_pre[i*12:(i+1)*12]\n",
    "    tract_rate.append(np.mean(future_rate))\n",
    "data = {'Future Annual Increase Rate': tract_rate,\n",
    "        'TRACT_GEOID': unique_tract}\n",
    "df = pd.DataFrame(data, index = range(1, 1759, 1))\n",
    "df.to_csv('final_prediction.csv')"
   ]
  },
  {
   "cell_type": "code",
   "execution_count": 17,
   "metadata": {
    "collapsed": false
   },
   "outputs": [],
   "source": [
    "# final recommendations\n",
    "recommend = dict()\n",
    "recommend['invest'] = []\n",
    "recommend['hold'] = []\n",
    "recommend['divest'] = []\n",
    "\n",
    "    if future_rate[1] < future_rate[0]:\n",
    "        recommend['divest'].append(unique_tract[i])\n",
    "    elif future_rate[0] > 0.2:\n",
    "        recommend['invest'].append(unique_tract[i])\n",
    "    else:\n",
    "        recommend['hold'].append(unique_tract[i])"
   ]
  },
  {
   "cell_type": "code",
   "execution_count": null,
   "metadata": {
    "collapsed": true
   },
   "outputs": [],
   "source": [
    "#output invest decisions for each tract\n",
    "n_1 = len(recommend['divest'])\n",
    "n_2 = len(recommend['hold'])\n",
    "n_3 = len(recommend['invest'])\n",
    "n_max = max(n_1, n_2, n_3)"
   ]
  },
  {
   "cell_type": "code",
   "execution_count": 31,
   "metadata": {
    "collapsed": false
   },
   "outputs": [
    {
     "ename": "NameError",
     "evalue": "name 'y_final_mat' is not defined",
     "output_type": "error",
     "traceback": [
      "\u001b[0;31m---------------------------------------------------------------------------\u001b[0m",
      "\u001b[0;31mNameError\u001b[0m                                 Traceback (most recent call last)",
      "\u001b[0;32m<ipython-input-31-1039d952a5c5>\u001b[0m in \u001b[0;36m<module>\u001b[0;34m()\u001b[0m\n\u001b[0;32m----> 1\u001b[0;31m \u001b[0my_final_mat\u001b[0m\u001b[1;33m\u001b[0m\u001b[0m\n\u001b[0m",
      "\u001b[0;31mNameError\u001b[0m: name 'y_final_mat' is not defined"
     ]
    }
   ],
   "source": [
    "y_final_mat"
   ]
  }
 ],
 "metadata": {
  "anaconda-cloud": {},
  "kernelspec": {
   "display_name": "Python [default]",
   "language": "python",
   "name": "python3"
  },
  "language_info": {
   "codemirror_mode": {
    "name": "ipython",
    "version": 3
   },
   "file_extension": ".py",
   "mimetype": "text/x-python",
   "name": "python",
   "nbconvert_exporter": "python",
   "pygments_lexer": "ipython3",
   "version": "3.5.2"
  }
 },
 "nbformat": 4,
 "nbformat_minor": 1
}
