{
 "cells": [
  {
   "cell_type": "code",
   "execution_count": 43,
   "metadata": {
    "collapsed": true
   },
   "outputs": [],
   "source": [
    "from sklearn import neighbors\n",
    "from sklearn.decomposition import PCA\n",
    "from arch.bootstrap import StationaryBootstrap\n",
    "import numpy as np\n",
    "import matplotlib.pyplot as plt\n",
    "import pandas as pd\n",
    "import datetime as dt\n",
    "import math\n",
    "import sys\n",
    "import random\n",
    "from itertools import chain"
   ]
  },
  {
   "cell_type": "code",
   "execution_count": 99,
   "metadata": {
    "collapsed": false
   },
   "outputs": [],
   "source": [
    "#read training and cross validation set\n",
    "total = pd.read_csv(\"time_space.csv\")\n",
    "n = total.shape[0]\n",
    "num_tract = 1758\n",
    "\n",
    "test = pd.read_csv(\"test_data.csv\")\n",
    "m = test.shape[0]\n",
    "test = test.drop(test.columns[0], axis = 1) #delete index\n",
    "test_geoid = test['GEOID']\n",
    "test = test.drop(test.columns[0], axis = 1) #delete GEOID\n",
    "for i in range(m):\n",
    "    now = dt.datetime.strptime(test.loc[i, 'MP_DATE'],'%Y-%m-%d').date()\n",
    "    test.loc[i, 'MP_DATE'] = (now - origin).days/30.0\n",
    "    \n",
    "\n",
    "total = total.drop(total.columns[0], axis = 1) #delete index\n",
    "\n",
    "tract_id = total['GEOID']\n",
    "total = total.drop(total.columns[0], axis = 1) #delete tract_geoid\n",
    "    \n",
    "mp_date = total['MP_DATE']\n",
    "origin = dt.datetime.strptime(total.loc[0, 'MP_DATE'],'%Y-%m-%d').date()\n",
    "for i in range(n):\n",
    "    now = dt.datetime.strptime(total.loc[i, 'MP_DATE'],'%Y-%m-%d').date()\n",
    "    total.loc[i, 'MP_DATE'] = (now - origin).days/30.0\n",
    "\n",
    "values = total['values']\n",
    "total = total.drop(total.columns[3], axis = 1)"
   ]
  },
  {
   "cell_type": "code",
   "execution_count": 3,
   "metadata": {
    "collapsed": true
   },
   "outputs": [],
   "source": [
    "for blocksize in range(25):\n",
    "    print(\"Current Block Size: \"+str(blocksize))\n",
    "    \n",
    "    #get 10 block bootstrapping samples\n",
    "    for j in range(num_tract):\n",
    "        sub_data = total.iloc[63*j:63*(j+1)]\n",
    "        bs = StationaryBootstrap(blocksize, sub_data)\n",
    "        if j == 0:\n",
    "            train_lst = [data[0][0] for data in bs.bootstrap(10)]\n",
    "        else:\n",
    "            i = 0\n",
    "            for data in bs.bootstrap(10):\n",
    "                train_lst[i] = train_lst[i].append(data[0][0])\n",
    "                i += 1\n",
    "    print(\"Finish Bootstrapping\")\n",
    "\n",
    "            \n",
    "    #get unselected samples as my cross validation\n",
    "    ind_all = set(total.index)\n",
    "    ind_diff = []\n",
    "    possible_oob = set(chain.from_iterable([list(range(63*k+24,63*(k+1)+1)) for k in range(1758)]))\n",
    "    d_oob_learner = dict()\n",
    "    d_oob_cv = dict()\n",
    "\n",
    "    for i in range(10):\n",
    "        ind_unselected = list(possible_oob.intersection(ind_all - set(train_lst[i].index)))\n",
    "        print(len(ind_unselected))\n",
    "        for item in ind_unselected:\n",
    "            try:\n",
    "                d_oob_learner[item] += [i]\n",
    "            except:\n",
    "                d_oob_learner[item] = [i]\n",
    "        d_oob_cv[i] = ind_unselected\n",
    "    print(\"Finish collecting feasible OOB for CV and prediction\")\n",
    "    \n",
    "    \n",
    "    #find best k for each bootstrapping sample --> model parameter\n",
    "    best_k_lst = []\n",
    "    best_mae_lst = []\n",
    "    symbol_lst = []\n",
    "    y_ = []\n",
    "    for i in range(10):\n",
    "        train_y = train_lst[i]['dv'] #get dependent variable\n",
    "        train_x = train_lst[i].drop(train_lst[i].columns[3], axis = 1) #delete dependent variables\n",
    "\n",
    "        best_mae = sys.maxsize\n",
    "        for k in range(1, 32, 5):\n",
    "            knn = neighbors.KNeighborsRegressor(k, weights ='distance')\n",
    "            y_ = []\n",
    "            y_mean = 0\n",
    "            y_symbol = 0\n",
    "            cv_times = range(51,62)\n",
    "            for cv_time in cv_times:\n",
    "                train_id = list(chain.from_iterable([list(range(63*k,(63*k+cv_time))) for k in range(num_tract)]))\n",
    "                test_id = [63*k+cv_time for k in range(num_tract)]\n",
    "            #print(test_id)\n",
    "                y_predict = knn.fit(train_x.iloc[train_id], train_y.iloc[train_id]).predict(train_x.iloc[test_id])\n",
    "                y_ += [y_predict]\n",
    "                mae = np.mean(abs(y_predict - train_y.iloc[test_id]))\n",
    "                y_mean += mae\n",
    "                y_symbol += sum(y_predict*train_y.iloc[test_id]>=0)/len(y_predict)\n",
    "            y_mean = y_mean / len(cv_times)\n",
    "            y_symbol = y_symbol / len(cv_times)\n",
    "            if y_mean < best_mae:\n",
    "                best_mae = y_mean\n",
    "                best_k = k\n",
    "                symbol = y_symbol\n",
    "                print((i, k, best_mae))\n",
    "        best_mae_lst.append(best_mae)\n",
    "        best_k_lst.append(best_k)\n",
    "        symbol_lst.append(symbol)\n",
    "\n"
   ]
  },
  {
   "cell_type": "code",
   "execution_count": 80,
   "metadata": {
    "collapsed": false
   },
   "outputs": [
    {
     "name": "stdout",
     "output_type": "stream",
     "text": [
      "Finish Bootstrapping\n",
      "20476\n",
      "21251\n",
      "21226\n",
      "21094\n",
      "20826\n",
      "20674\n",
      "21109\n",
      "20762\n",
      "20549\n",
      "20726\n",
      "Finish collecting feasible OOB for CV and prediction\n"
     ]
    }
   ],
   "source": [
    "blocksize = 12\n",
    "#get 10 block bootstrapping samples\n",
    "for j in range(num_tract):\n",
    "    sub_data = total.iloc[63*j:63*(j+1)]\n",
    "    bs = StationaryBootstrap(blocksize, sub_data)\n",
    "    if j == 0:\n",
    "        train_lst = [data[0][0] for data in bs.bootstrap(10)]\n",
    "    else:\n",
    "        i = 0\n",
    "        for data in bs.bootstrap(10):\n",
    "            train_lst[i] = train_lst[i].append(data[0][0])\n",
    "            i += 1\n",
    "print(\"Finish Bootstrapping\")\n",
    "\n",
    "            \n",
    "#get unselected samples as my cross validation\n",
    "ind_all = set(total.index)\n",
    "ind_diff = []\n",
    "possible_oob = set(chain.from_iterable([list(range(63*k+24,63*(k+1)+1)) for k in range(1758)]))\n",
    "d_oob_learner = dict()\n",
    "d_oob_cv = dict()\n",
    "\n",
    "for i in range(10):\n",
    "    ind_unselected = list(possible_oob.intersection(ind_all - set(train_lst[i].index)))\n",
    "    print(len(ind_unselected))\n",
    "    for item in ind_unselected:\n",
    "        try:\n",
    "            d_oob_learner[item] += [i]\n",
    "        except:\n",
    "            d_oob_learner[item] = [i]\n",
    "    d_oob_cv[i] = ind_unselected\n",
    "print(\"Finish collecting feasible OOB for CV and prediction\")\n",
    "    \n"
   ]
  },
  {
   "cell_type": "code",
   "execution_count": 108,
   "metadata": {
    "collapsed": false
   },
   "outputs": [
    {
     "name": "stdout",
     "output_type": "stream",
     "text": [
      "(0, 1, 1.3070919906956553)\n",
      "(1, 1, 2.2871430531392467)\n",
      "(1, 6, 1.9018020232025092)\n",
      "(2, 1, 1.9237542514846426)\n",
      "(2, 6, 1.8901346853445835)\n",
      "(3, 1, 2.5282974141361536)\n",
      "(4, 1, 2.4005230923152543)\n",
      "(5, 1, 1.9937114036356918)\n",
      "(6, 1, 4.722418783507211)\n",
      "(6, 6, 4.025679660454961)\n",
      "(7, 1, 1.5800129788458541)\n",
      "(8, 1, 1.4488189429000804)\n",
      "(9, 1, 1.8202846204410854)\n"
     ]
    }
   ],
   "source": [
    "#find best k for each bootstrapping sample --> model parameter\n",
    "best_k_lst = []\n",
    "best_mae_lst = []\n",
    "symbol_lst = []\n",
    "y_ = []\n",
    "for i in range(10):\n",
    "    train_y = train_lst[i]['dv'] #get dependent variable\n",
    "    train_x = train_lst[i].drop(train_lst[i].columns[3], axis = 1) #delete dependent variables\n",
    "\n",
    "    best_mae = sys.maxsize\n",
    "    for k in range(1, 32, 5):\n",
    "        knn = neighbors.KNeighborsRegressor(k, weights ='distance')\n",
    "        y_ = []\n",
    "        y_mean = 0\n",
    "        y_symbol = 0\n",
    "        cv_times = range(51,62)\n",
    "        for cv_time in cv_times:\n",
    "            train_id = list(chain.from_iterable([list(range(63*k,(63*k+cv_time))) for k in range(num_tract)]))\n",
    "            test_id = [63*k+cv_time for k in range(num_tract)]\n",
    "            #print(test_id)\n",
    "            y_predict = knn.fit(train_x.iloc[train_id], train_y.iloc[train_id]).predict(train_x.iloc[test_id])\n",
    "            y_ += [y_predict]\n",
    "            mae = np.mean(abs(y_predict - train_y.iloc[test_id]))\n",
    "            y_mean += mae\n",
    "            y_symbol += sum(y_predict*train_y.iloc[test_id]>=0)/len(y_predict)\n",
    "        y_mean = y_mean / len(cv_times)\n",
    "        y_symbol = y_symbol / len(cv_times)\n",
    "        if y_mean < best_mae:\n",
    "            best_mae = y_mean\n",
    "            best_k = k\n",
    "            symbol = y_symbol\n",
    "            print((i, k, best_mae))\n",
    "    best_mae_lst.append(best_mae)\n",
    "    best_k_lst.append(best_k)\n",
    "    symbol_lst.append(symbol)"
   ]
  },
  {
   "cell_type": "code",
   "execution_count": 6,
   "metadata": {
    "collapsed": false
   },
   "outputs": [],
   "source": [
    "#get predictions\n",
    "y_pre_lst = []\n",
    "for i in range(10):\n",
    "    train_y = train_lst[i]['dv'] #get dependent variable\n",
    "    train_x = train_lst[i].drop(train_lst[i].columns[3], axis = 1) #delete dependent variables\n",
    "    knn = neighbors.KNeighborsRegressor(best_k_lst[i], weights ='distance')\n",
    "    y_pre = knn.fit(train_x, train_y).predict(test)\n",
    "    y_pre_lst.append(y_pre)\n"
   ]
  },
  {
   "cell_type": "code",
   "execution_count": 100,
   "metadata": {
    "collapsed": false
   },
   "outputs": [
    {
     "data": {
      "text/plain": [
       "[1, 31, 11, 31, 16, 31, 31, 31, 21, 6]"
      ]
     },
     "execution_count": 100,
     "metadata": {},
     "output_type": "execute_result"
    }
   ],
   "source": [
    "best_k_lst"
   ]
  },
  {
   "cell_type": "code",
   "execution_count": 109,
   "metadata": {
    "collapsed": false
   },
   "outputs": [
    {
     "data": {
      "text/plain": [
       "[0.96080256489812799,\n",
       " 0.9571310373358155,\n",
       " 0.95454545454545459,\n",
       " 0.96493949736270568,\n",
       " 0.96261247285138074,\n",
       " 0.9635432826559106,\n",
       " 0.95020167545764833,\n",
       " 0.96287103113041683,\n",
       " 0.96318130106526023,\n",
       " 0.96178508635846538]"
      ]
     },
     "execution_count": 109,
     "metadata": {},
     "output_type": "execute_result"
    }
   ],
   "source": [
    "symbol_lst"
   ]
  },
  {
   "cell_type": "code",
   "execution_count": 105,
   "metadata": {
    "collapsed": false
   },
   "outputs": [
    {
     "data": {
      "text/plain": [
       "2.0896356811971826"
      ]
     },
     "execution_count": 105,
     "metadata": {},
     "output_type": "execute_result"
    }
   ],
   "source": [
    "np.mean(best_mae_lst)"
   ]
  },
  {
   "cell_type": "code",
   "execution_count": 7,
   "metadata": {
    "collapsed": false
   },
   "outputs": [],
   "source": [
    "#get predictions\n",
    "y_pre_lst = []\n",
    "for i in range(10):\n",
    "    for \n",
    "    train_y = train_lst[i]['dv'] #get dependent variable\n",
    "    train_x = train_lst[i].drop(train_lst[i].columns[3], axis = 1) #delete dependent variables\n",
    "    knn = neighbors.KNeighborsRegressor(best_k_lst[i], weights ='distance')\n",
    "    y_pre = knn.fit(train_x, train_y).predict(test)\n",
    "    y_pre_lst.append(y_pre)"
   ]
  },
  {
   "cell_type": "code",
   "execution_count": 8,
   "metadata": {
    "collapsed": false,
    "scrolled": true
   },
   "outputs": [],
   "source": [
    "y_pre_mat = np.array(y_pre_lst)\n",
    "y_final_pre = np.mean(y_pre_mat, 0)"
   ]
  },
  {
   "cell_type": "code",
   "execution_count": 11,
   "metadata": {
    "collapsed": false
   },
   "outputs": [
    {
     "name": "stderr",
     "output_type": "stream",
     "text": [
      "E:\\Anaconda3\\lib\\site-packages\\matplotlib\\pyplot.py:524: RuntimeWarning: More than 20 figures have been opened. Figures created through the pyplot interface (`matplotlib.pyplot.figure`) are retained until explicitly closed and may consume too much memory. (To control this warning, see the rcParam `figure.max_open_warning`).\n",
      "  max_open_warning, RuntimeWarning)\n"
     ]
    },
    {
     "ename": "SystemError",
     "evalue": "<built-in method write of _io.BufferedWriter object at 0x000001E0E14E60F8> returned a result with an error set",
     "output_type": "error",
     "traceback": [
      "\u001b[0;31m---------------------------------------------------------------------------\u001b[0m",
      "\u001b[0;31mKeyboardInterrupt\u001b[0m                         Traceback (most recent call last)",
      "\u001b[0;31mKeyboardInterrupt\u001b[0m: ",
      "\nDuring handling of the above exception, another exception occurred:\n",
      "\u001b[0;31mSystemError\u001b[0m                               Traceback (most recent call last)",
      "\u001b[0;31mSystemError\u001b[0m: <built-in method write of _io.BufferedWriter object at 0x000001E0E14E60F8> returned a result with an error set",
      "\nDuring handling of the above exception, another exception occurred:\n",
      "\u001b[0;31mSystemError\u001b[0m                               Traceback (most recent call last)",
      "\u001b[0;31mSystemError\u001b[0m: <built-in method write of _io.BufferedWriter object at 0x000001E0E14E60F8> returned a result with an error set",
      "\nDuring handling of the above exception, another exception occurred:\n",
      "\u001b[0;31mSystemError\u001b[0m                               Traceback (most recent call last)",
      "\u001b[0;31mSystemError\u001b[0m: <built-in method write of _io.BufferedWriter object at 0x000001E0E14E60F8> returned a result with an error set",
      "\nDuring handling of the above exception, another exception occurred:\n",
      "\u001b[0;31mSystemError\u001b[0m                               Traceback (most recent call last)",
      "\u001b[0;31mSystemError\u001b[0m: <built-in method write of _io.BufferedWriter object at 0x000001E0E14E60F8> returned a result with an error set",
      "\nDuring handling of the above exception, another exception occurred:\n",
      "\u001b[0;31mSystemError\u001b[0m                               Traceback (most recent call last)",
      "\u001b[0;32m<ipython-input-11-12cc4747bc3d>\u001b[0m in \u001b[0;36m<module>\u001b[0;34m()\u001b[0m\n\u001b[1;32m      3\u001b[0m     \u001b[0mplt\u001b[0m\u001b[1;33m.\u001b[0m\u001b[0mfigure\u001b[0m\u001b[1;33m(\u001b[0m\u001b[0mfigsize\u001b[0m\u001b[1;33m=\u001b[0m\u001b[1;33m(\u001b[0m\u001b[1;36m8\u001b[0m\u001b[1;33m,\u001b[0m\u001b[1;36m6\u001b[0m\u001b[1;33m)\u001b[0m\u001b[1;33m,\u001b[0m \u001b[0mdpi\u001b[0m\u001b[1;33m=\u001b[0m\u001b[1;36m60\u001b[0m\u001b[1;33m)\u001b[0m\u001b[1;33m\u001b[0m\u001b[0m\n\u001b[1;32m      4\u001b[0m     \u001b[0mplt\u001b[0m\u001b[1;33m.\u001b[0m\u001b[0mplot\u001b[0m\u001b[1;33m(\u001b[0m\u001b[0mrange\u001b[0m\u001b[1;33m(\u001b[0m\u001b[1;36m12\u001b[0m\u001b[1;33m)\u001b[0m\u001b[1;33m,\u001b[0m \u001b[0my_final_pre\u001b[0m\u001b[1;33m[\u001b[0m\u001b[0mi\u001b[0m\u001b[1;33m*\u001b[0m\u001b[1;36m12\u001b[0m\u001b[1;33m:\u001b[0m\u001b[1;33m(\u001b[0m\u001b[0mi\u001b[0m\u001b[1;33m+\u001b[0m\u001b[1;36m1\u001b[0m\u001b[1;33m)\u001b[0m\u001b[1;33m*\u001b[0m\u001b[1;36m12\u001b[0m\u001b[1;33m]\u001b[0m\u001b[1;33m,\u001b[0m \u001b[1;34m'k'\u001b[0m\u001b[1;33m)\u001b[0m\u001b[1;33m\u001b[0m\u001b[0m\n\u001b[0;32m----> 5\u001b[0;31m     \u001b[0mplt\u001b[0m\u001b[1;33m.\u001b[0m\u001b[0msavefig\u001b[0m\u001b[1;33m(\u001b[0m\u001b[0mfilename\u001b[0m\u001b[1;33m,\u001b[0m \u001b[0mdpi\u001b[0m \u001b[1;33m=\u001b[0m \u001b[1;36m60\u001b[0m\u001b[1;33m)\u001b[0m\u001b[1;33m\u001b[0m\u001b[0m\n\u001b[0m",
      "\u001b[0;32mE:\\Anaconda3\\lib\\site-packages\\matplotlib\\pyplot.py\u001b[0m in \u001b[0;36msavefig\u001b[0;34m(*args, **kwargs)\u001b[0m\n\u001b[1;32m    695\u001b[0m \u001b[1;32mdef\u001b[0m \u001b[0msavefig\u001b[0m\u001b[1;33m(\u001b[0m\u001b[1;33m*\u001b[0m\u001b[0margs\u001b[0m\u001b[1;33m,\u001b[0m \u001b[1;33m**\u001b[0m\u001b[0mkwargs\u001b[0m\u001b[1;33m)\u001b[0m\u001b[1;33m:\u001b[0m\u001b[1;33m\u001b[0m\u001b[0m\n\u001b[1;32m    696\u001b[0m     \u001b[0mfig\u001b[0m \u001b[1;33m=\u001b[0m \u001b[0mgcf\u001b[0m\u001b[1;33m(\u001b[0m\u001b[1;33m)\u001b[0m\u001b[1;33m\u001b[0m\u001b[0m\n\u001b[0;32m--> 697\u001b[0;31m     \u001b[0mres\u001b[0m \u001b[1;33m=\u001b[0m \u001b[0mfig\u001b[0m\u001b[1;33m.\u001b[0m\u001b[0msavefig\u001b[0m\u001b[1;33m(\u001b[0m\u001b[1;33m*\u001b[0m\u001b[0margs\u001b[0m\u001b[1;33m,\u001b[0m \u001b[1;33m**\u001b[0m\u001b[0mkwargs\u001b[0m\u001b[1;33m)\u001b[0m\u001b[1;33m\u001b[0m\u001b[0m\n\u001b[0m\u001b[1;32m    698\u001b[0m     \u001b[0mfig\u001b[0m\u001b[1;33m.\u001b[0m\u001b[0mcanvas\u001b[0m\u001b[1;33m.\u001b[0m\u001b[0mdraw_idle\u001b[0m\u001b[1;33m(\u001b[0m\u001b[1;33m)\u001b[0m   \u001b[1;31m# need this if 'transparent=True' to reset colors\u001b[0m\u001b[1;33m\u001b[0m\u001b[0m\n\u001b[1;32m    699\u001b[0m     \u001b[1;32mreturn\u001b[0m \u001b[0mres\u001b[0m\u001b[1;33m\u001b[0m\u001b[0m\n",
      "\u001b[0;32mE:\\Anaconda3\\lib\\site-packages\\matplotlib\\figure.py\u001b[0m in \u001b[0;36msavefig\u001b[0;34m(self, *args, **kwargs)\u001b[0m\n\u001b[1;32m   1570\u001b[0m             \u001b[0mself\u001b[0m\u001b[1;33m.\u001b[0m\u001b[0mset_frameon\u001b[0m\u001b[1;33m(\u001b[0m\u001b[0mframeon\u001b[0m\u001b[1;33m)\u001b[0m\u001b[1;33m\u001b[0m\u001b[0m\n\u001b[1;32m   1571\u001b[0m \u001b[1;33m\u001b[0m\u001b[0m\n\u001b[0;32m-> 1572\u001b[0;31m         \u001b[0mself\u001b[0m\u001b[1;33m.\u001b[0m\u001b[0mcanvas\u001b[0m\u001b[1;33m.\u001b[0m\u001b[0mprint_figure\u001b[0m\u001b[1;33m(\u001b[0m\u001b[1;33m*\u001b[0m\u001b[0margs\u001b[0m\u001b[1;33m,\u001b[0m \u001b[1;33m**\u001b[0m\u001b[0mkwargs\u001b[0m\u001b[1;33m)\u001b[0m\u001b[1;33m\u001b[0m\u001b[0m\n\u001b[0m\u001b[1;32m   1573\u001b[0m \u001b[1;33m\u001b[0m\u001b[0m\n\u001b[1;32m   1574\u001b[0m         \u001b[1;32mif\u001b[0m \u001b[0mframeon\u001b[0m\u001b[1;33m:\u001b[0m\u001b[1;33m\u001b[0m\u001b[0m\n",
      "\u001b[0;32mE:\\Anaconda3\\lib\\site-packages\\matplotlib\\backend_bases.py\u001b[0m in \u001b[0;36mprint_figure\u001b[0;34m(self, filename, dpi, facecolor, edgecolor, orientation, format, **kwargs)\u001b[0m\n\u001b[1;32m   2242\u001b[0m                 \u001b[0morientation\u001b[0m\u001b[1;33m=\u001b[0m\u001b[0morientation\u001b[0m\u001b[1;33m,\u001b[0m\u001b[1;33m\u001b[0m\u001b[0m\n\u001b[1;32m   2243\u001b[0m                 \u001b[0mbbox_inches_restore\u001b[0m\u001b[1;33m=\u001b[0m\u001b[0m_bbox_inches_restore\u001b[0m\u001b[1;33m,\u001b[0m\u001b[1;33m\u001b[0m\u001b[0m\n\u001b[0;32m-> 2244\u001b[0;31m                 **kwargs)\n\u001b[0m\u001b[1;32m   2245\u001b[0m         \u001b[1;32mfinally\u001b[0m\u001b[1;33m:\u001b[0m\u001b[1;33m\u001b[0m\u001b[0m\n\u001b[1;32m   2246\u001b[0m             \u001b[1;32mif\u001b[0m \u001b[0mbbox_inches\u001b[0m \u001b[1;32mand\u001b[0m \u001b[0mrestore_bbox\u001b[0m\u001b[1;33m:\u001b[0m\u001b[1;33m\u001b[0m\u001b[0m\n",
      "\u001b[0;32mE:\\Anaconda3\\lib\\site-packages\\matplotlib\\backends\\backend_agg.py\u001b[0m in \u001b[0;36mprint_png\u001b[0;34m(self, filename_or_obj, *args, **kwargs)\u001b[0m\n\u001b[1;32m    554\u001b[0m \u001b[1;33m\u001b[0m\u001b[0m\n\u001b[1;32m    555\u001b[0m         \u001b[1;32mtry\u001b[0m\u001b[1;33m:\u001b[0m\u001b[1;33m\u001b[0m\u001b[0m\n\u001b[0;32m--> 556\u001b[0;31m             \u001b[0m_png\u001b[0m\u001b[1;33m.\u001b[0m\u001b[0mwrite_png\u001b[0m\u001b[1;33m(\u001b[0m\u001b[0mrenderer\u001b[0m\u001b[1;33m.\u001b[0m\u001b[0m_renderer\u001b[0m\u001b[1;33m,\u001b[0m \u001b[0mfilename_or_obj\u001b[0m\u001b[1;33m,\u001b[0m \u001b[0mself\u001b[0m\u001b[1;33m.\u001b[0m\u001b[0mfigure\u001b[0m\u001b[1;33m.\u001b[0m\u001b[0mdpi\u001b[0m\u001b[1;33m)\u001b[0m\u001b[1;33m\u001b[0m\u001b[0m\n\u001b[0m\u001b[1;32m    557\u001b[0m         \u001b[1;32mfinally\u001b[0m\u001b[1;33m:\u001b[0m\u001b[1;33m\u001b[0m\u001b[0m\n\u001b[1;32m    558\u001b[0m             \u001b[1;32mif\u001b[0m \u001b[0mclose\u001b[0m\u001b[1;33m:\u001b[0m\u001b[1;33m\u001b[0m\u001b[0m\n",
      "\u001b[0;31mSystemError\u001b[0m: <built-in method write of _io.BufferedWriter object at 0x000001E0E14E60F8> returned a result with an error set"
     ]
    }
   ],
   "source": [
    "for i in range(1758):\n",
    "    filename = \"%d.png\" % i\n",
    "    plt.figure(figsize=(8,6), dpi=60)\n",
    "    plt.plot(range(12), y_final_pre[i*12:(i+1)*12], 'k')\n",
    "    plt.savefig(filename, dpi = 60)"
   ]
  },
  {
   "cell_type": "code",
   "execution_count": null,
   "metadata": {
    "collapsed": false
   },
   "outputs": [],
   "source": []
  }
 ],
 "metadata": {
  "anaconda-cloud": {},
  "kernelspec": {
   "display_name": "Python [default]",
   "language": "python",
   "name": "python3"
  },
  "language_info": {
   "codemirror_mode": {
    "name": "ipython",
    "version": 3
   },
   "file_extension": ".py",
   "mimetype": "text/x-python",
   "name": "python",
   "nbconvert_exporter": "python",
   "pygments_lexer": "ipython3",
   "version": "3.5.2"
  }
 },
 "nbformat": 4,
 "nbformat_minor": 1
}
