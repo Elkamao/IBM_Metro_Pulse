{
 "cells": [
  {
   "cell_type": "code",
   "execution_count": 1,
   "metadata": {
    "collapsed": true
   },
   "outputs": [],
   "source": [
    "from sklearn import neighbors\n",
    "from sklearn import preprocessing\n",
    "from arch.bootstrap import StationaryBootstrap\n",
    "import numpy as np\n",
    "import matplotlib.pyplot as plt\n",
    "import pandas as pd\n",
    "import datetime as dt\n",
    "import math\n",
    "import sys\n",
    "import random\n",
    "from itertools import chain"
   ]
  },
  {
   "cell_type": "code",
   "execution_count": 2,
   "metadata": {
    "collapsed": false
   },
   "outputs": [],
   "source": [
    "#read training and cross validation set\n",
    "total = pd.read_csv(\"data/time_space.csv\")\n",
    "n = total.shape[0]\n",
    "num_tract = 1758\n",
    "\n",
    "total = total.drop(total.columns[0], axis = 1) #delete index\n",
    "\n",
    "tract_id = total['GEOID']\n",
    "total = total.drop(total.columns[0], axis = 1) #delete tract_geoid\n",
    "    \n",
    "mp_date = total['MP_DATE']\n",
    "origin = dt.datetime.strptime(total.loc[0, 'MP_DATE'],'%Y-%m-%d').date()\n",
    "for i in range(n):\n",
    "    now = dt.datetime.strptime(total.loc[i, 'MP_DATE'],'%Y-%m-%d').date()\n",
    "    total.loc[i, 'MP_DATE'] = (now - origin).days/30.0    \n",
    "values = total['values']\n",
    "total = total.drop(total.columns[3], axis = 1) #delete values\n",
    "\n",
    "test = pd.read_csv(\"data/test_data.csv\")\n",
    "m = test.shape[0]\n",
    "test = test.drop(test.columns[0], axis = 1) #delete index\n",
    "test_geoid = test['GEOID']\n",
    "test = test.drop(test.columns[0], axis = 1) #delete GEOID\n",
    "for i in range(m):\n",
    "    now = dt.datetime.strptime(test.loc[i, 'MP_DATE'],'%Y-%m-%d').date()\n",
    "    test.loc[i, 'MP_DATE'] = (now - origin).days/30.0"
   ]
  },
  {
   "cell_type": "code",
   "execution_count": 3,
   "metadata": {
    "collapsed": false
   },
   "outputs": [
    {
     "name": "stderr",
     "output_type": "stream",
     "text": [
      "C:\\Users\\green\\Anaconda3\\lib\\site-packages\\sklearn\\utils\\validation.py:429: DataConversionWarning: Data with input dtype object was converted to float64 by the scale function.\n",
      "  warnings.warn(msg, _DataConversionWarning)\n"
     ]
    }
   ],
   "source": [
    "#another way of scale\n",
    "total['MP_DATE'] = preprocessing.scale(total['MP_DATE'])\n",
    "total['lon'] = preprocessing.scale(total['lon'])\n",
    "total['lat'] = preprocessing.scale(total['lat'])\n",
    "test['MP_DATE'] = preprocessing.scale(test['MP_DATE'])\n",
    "test['lon'] = preprocessing.scale(test['lon'])\n",
    "test['lat'] = preprocessing.scale(test['lat'])\n",
    "\n",
    "#set the number of ensemble samples\n",
    "s = 50"
   ]
  },
  {
   "cell_type": "code",
   "execution_count": 4,
   "metadata": {
    "collapsed": false
   },
   "outputs": [],
   "source": [
    "#scale latitudes and lontitudes\n",
    "original_mpdate = total['MP_DATE']\n",
    "original_lat = total['lat']\n",
    "original_lon = total['lon']\n",
    "original_lat_test = test['lat']\n",
    "original_lon_test = test['lon']\n",
    "weight = 1\n",
    "total['lat'] = weight * total['lat']\n",
    "total['lon'] = weight * total['lon']\n",
    "test['lat'] = weight * test['lat']\n",
    "test['lon'] = weight * test['lon']\n",
    "\n",
    "#set the number of ensemble samples\n",
    "s = 50 "
   ]
  },
  {
   "cell_type": "code",
   "execution_count": 5,
   "metadata": {
    "collapsed": false
   },
   "outputs": [
    {
     "name": "stdout",
     "output_type": "stream",
     "text": [
      "Finish Bootstrapping\n",
      "20909\n",
      "21099\n",
      "21442\n",
      "20508\n",
      "21131\n",
      "21081\n",
      "20642\n",
      "20351\n",
      "21072\n",
      "21164\n",
      "20828\n",
      "20502\n",
      "21204\n",
      "21276\n",
      "20815\n",
      "21126\n",
      "20741\n",
      "20445\n",
      "20892\n",
      "21225\n",
      "20789\n",
      "20408\n",
      "20846\n",
      "20808\n",
      "20896\n",
      "20593\n",
      "20337\n",
      "21021\n",
      "20672\n",
      "20635\n",
      "20728\n",
      "20602\n",
      "20786\n",
      "20788\n",
      "20881\n",
      "20728\n",
      "21124\n",
      "21176\n",
      "21186\n",
      "21071\n",
      "20766\n",
      "21072\n",
      "20806\n",
      "20817\n",
      "20865\n",
      "20346\n",
      "20865\n",
      "20933\n",
      "20880\n",
      "20784\n",
      "Finish collecting feasible OOB for CV and prediction\n"
     ]
    }
   ],
   "source": [
    "blocksize = 12\n",
    "#get block bootstrapping samples\n",
    "for j in range(num_tract):\n",
    "    sub_data = total.iloc[63*j:63*(j+1)]\n",
    "    bs = StationaryBootstrap(blocksize, sub_data)\n",
    "    if j == 0:\n",
    "        train_lst = [data[0][0] for data in bs.bootstrap(s)]\n",
    "    else:\n",
    "        i = 0\n",
    "        for data in bs.bootstrap(s):\n",
    "            train_lst[i] = train_lst[i].append(data[0][0])\n",
    "            i += 1\n",
    "print(\"Finish Bootstrapping\")\n",
    "            \n",
    "#get unselected samples as my cross validation\n",
    "ind_all = set(total.index)\n",
    "ind_diff = []\n",
    "possible_oob = set(chain.from_iterable([list(range(63*k+24,63*(k+1)+1)) for k in range(1758)]))\n",
    "d_oob_learner = dict()\n",
    "d_oob_cv = dict()\n",
    "\n",
    "for i in range(s):\n",
    "    ind_unselected = list(possible_oob.intersection(ind_all - set(train_lst[i].index)))\n",
    "    print(len(ind_unselected))\n",
    "    for item in ind_unselected:\n",
    "        try:\n",
    "            d_oob_learner[item] += [i]\n",
    "        except:\n",
    "            d_oob_learner[item] = [i]\n",
    "    d_oob_cv[i] = ind_unselected\n",
    "print(\"Finish collecting feasible OOB for CV and prediction\")"
   ]
  },
  {
   "cell_type": "code",
   "execution_count": 6,
   "metadata": {
    "collapsed": false
   },
   "outputs": [
    {
     "name": "stdout",
     "output_type": "stream",
     "text": [
      "(0, 1, 2.0240339443430178)\n",
      "(0, 3, 1.9736216082734153)\n",
      "(0, 4, 1.9467304512848067)\n",
      "(0, 5, 1.9411084857573628)\n",
      "(1, 1, 3.408618911570294)\n",
      "(1, 2, 3.2274723593151244)\n",
      "(2, 1, 1.5599494022378713)\n",
      "(2, 2, 1.5230868512059674)\n",
      "(3, 1, 1.5324756791551104)\n",
      "(4, 1, 3.3448452023419724)\n",
      "(4, 2, 3.065067503826059)\n",
      "(4, 4, 3.03639925542222)\n",
      "(4, 5, 2.95730741323411)\n",
      "(4, 8, 2.9409465178889485)\n",
      "(5, 1, 2.503162457926136)\n",
      "(5, 2, 2.4285599918317966)\n",
      "(5, 3, 2.150208533362352)\n",
      "(5, 4, 2.035142041380085)\n",
      "(5, 5, 1.95296923063339)\n",
      "(6, 1, 1.842098430275523)\n",
      "(6, 2, 1.7577865574543943)\n",
      "(6, 3, 1.7067081109199245)\n",
      "(7, 1, 1.8112564472711685)\n",
      "(7, 2, 1.6986254495386988)\n",
      "(7, 3, 1.6911611685294057)\n",
      "(8, 1, 2.000363827301325)\n",
      "(8, 2, 1.897471598409932)\n",
      "(8, 6, 1.8841472017758176)\n",
      "(9, 1, 1.791946273449611)\n",
      "(9, 2, 1.7292841252709137)\n",
      "(9, 3, 1.7209887590440063)\n",
      "(9, 7, 1.7163599845782926)\n",
      "(10, 1, 2.000688338781869)\n",
      "(10, 2, 1.9388017318687256)\n",
      "(11, 1, 2.601861230864272)\n",
      "(11, 2, 2.3966897180128086)\n",
      "(12, 1, 2.0448385565140765)\n",
      "(12, 2, 1.9561402507321886)\n",
      "(12, 5, 1.9525360635106017)\n",
      "(12, 6, 1.9486556747805934)\n",
      "(13, 1, 2.3435725100437237)\n",
      "(13, 2, 2.254678000805775)\n",
      "(13, 5, 2.21992856545999)\n",
      "(13, 6, 2.2093639457076453)\n",
      "(14, 1, 2.762988402001818)\n",
      "(14, 2, 2.6999494162328723)\n",
      "(14, 3, 2.68732492775851)\n",
      "(15, 1, 1.5754103719425583)\n",
      "(16, 1, 1.6536135799972718)\n",
      "(16, 2, 1.6311077275353758)\n",
      "(16, 3, 1.5949776558530004)\n",
      "(16, 4, 1.5350458511197254)\n",
      "(16, 5, 1.5183373675710143)\n",
      "(17, 1, 1.9320270578995384)\n",
      "(17, 2, 1.7788269747590526)\n",
      "(17, 3, 1.6927848400816219)\n",
      "(17, 4, 1.6488064231306272)\n",
      "(17, 7, 1.6359219803813876)\n",
      "(18, 1, 2.619683937431238)\n",
      "(19, 1, 4.473684216046954)\n",
      "(19, 2, 4.3901497704525445)\n",
      "(19, 3, 4.146149585210096)\n",
      "(19, 5, 4.0795160412349345)\n",
      "(19, 6, 3.9999795730161427)\n",
      "(19, 7, 3.923298612023853)\n",
      "(19, 8, 3.8605192587180643)\n",
      "(19, 9, 3.8178517162447907)\n",
      "(19, 10, 3.787853357282056)\n",
      "(20, 1, 4.551406958677815)\n",
      "(20, 2, 4.256714795763923)\n",
      "(20, 4, 4.1744295772211615)\n",
      "(20, 6, 4.138297856368323)\n",
      "(20, 7, 4.086786275284864)\n",
      "(20, 8, 4.018230656065076)\n",
      "(20, 9, 3.9843088673456166)\n",
      "(20, 10, 3.954643714330285)\n",
      "(21, 1, 2.1136268826145184)\n",
      "(21, 3, 2.102513058014081)\n",
      "(21, 6, 2.085622319169716)\n",
      "(21, 7, 2.065342770167089)\n",
      "(22, 1, 3.532619534274015)\n",
      "(22, 2, 3.3978533492692695)\n",
      "(22, 3, 3.1564991317648907)\n",
      "(23, 1, 1.9712166103667375)\n",
      "(23, 3, 1.930183072262168)\n",
      "(23, 4, 1.908135879867033)\n",
      "(24, 1, 2.6581150749334026)\n",
      "(24, 2, 2.5563362596528165)\n",
      "(25, 1, 3.709050680622042)\n",
      "(25, 3, 3.5306295651321142)\n",
      "(25, 4, 3.1873854867953533)\n",
      "(25, 5, 3.118553802689729)\n",
      "(25, 6, 3.1064874091515513)\n",
      "(25, 7, 2.992643406164317)\n",
      "(26, 1, 1.708973735809807)\n",
      "(26, 2, 1.6570746440555153)\n",
      "(26, 3, 1.6492643953082335)\n",
      "(27, 1, 1.7680301410295796)\n",
      "(27, 2, 1.6822374730509855)\n",
      "(27, 3, 1.6481238273541405)\n",
      "(28, 1, 2.609538538959416)\n",
      "(28, 2, 2.2933754400864483)\n",
      "(28, 3, 2.1246364824830732)\n",
      "(29, 1, 1.7411295231263526)\n",
      "(29, 2, 1.6041395624073225)\n",
      "(29, 3, 1.6019097476790376)\n",
      "(30, 1, 2.346575532505898)\n",
      "(30, 2, 2.3277793668001654)\n",
      "(31, 1, 3.3318368772910225)\n",
      "(31, 2, 2.818462119757795)\n",
      "(31, 3, 2.6286144526761377)\n",
      "(31, 4, 2.498656155604409)\n",
      "(31, 5, 2.4291339724162837)\n",
      "(32, 1, 1.4524159133342998)\n",
      "(32, 2, 1.4182798881728067)\n",
      "(32, 3, 1.3930136464754161)\n",
      "(33, 1, 2.3769858718486185)\n",
      "(33, 2, 2.3617169343092166)\n",
      "(34, 1, 1.7666397643191198)\n",
      "(34, 3, 1.7588617026929645)\n",
      "(35, 1, 1.8926906564155581)\n",
      "(35, 7, 1.8805611565900626)\n",
      "(36, 1, 2.100004252479577)\n",
      "(36, 2, 1.896233338812169)\n",
      "(36, 4, 1.8935865377011647)\n",
      "(36, 5, 1.8814187712459647)\n",
      "(37, 1, 2.0261874569197755)\n",
      "(37, 8, 2.01735006809077)\n",
      "(38, 1, 1.903929533052178)\n",
      "(38, 2, 1.7746723296166904)\n",
      "(39, 1, 2.103145095183122)\n",
      "(39, 2, 1.8955152902167904)\n",
      "(40, 1, 2.0609810913608277)\n",
      "(40, 2, 1.9559275357668042)\n",
      "(41, 1, 2.023392117274461)\n",
      "(42, 1, 1.9658303408935385)\n",
      "(42, 2, 1.8512406765151292)\n",
      "(42, 3, 1.818093727862084)\n",
      "(43, 1, 2.7212590674346697)\n",
      "(43, 4, 2.7132617204564955)\n",
      "(44, 1, 1.7017360560151455)\n",
      "(44, 3, 1.6747612609649012)\n",
      "(44, 4, 1.668336319973931)\n",
      "(45, 1, 1.6241647350637312)\n",
      "(46, 1, 2.623266053116793)\n",
      "(46, 2, 2.5201711568123106)\n",
      "(46, 4, 2.5164348759044644)\n",
      "(46, 5, 2.4826482002716985)\n",
      "(46, 6, 2.445392553926565)\n",
      "(46, 7, 2.429561285259305)\n",
      "(46, 8, 2.409021652499708)\n",
      "(47, 1, 2.166054273067189)\n",
      "(47, 4, 2.009539672419168)\n",
      "(47, 5, 1.9236755857961974)\n",
      "(48, 1, 2.457747726678044)\n",
      "(49, 1, 2.9050160318872753)\n",
      "(49, 2, 2.460146396376351)\n",
      "(49, 3, 2.2884526850721154)\n",
      "(49, 4, 2.2826764316074173)\n"
     ]
    }
   ],
   "source": [
    "#find best k for each bootstrapping sample --> model parameter\n",
    "best_k_lst = []\n",
    "best_mae_lst = []\n",
    "symbol_lst = []\n",
    "y_ = []\n",
    "for i in range(s):\n",
    "    train_y = train_lst[i]['dv'] #get dependent variable\n",
    "    train_x = train_lst[i].drop(train_lst[i].columns[3], axis = 1) #delete dependent variables\n",
    "\n",
    "    best_mae = sys.maxsize\n",
    "    for k in range(1, 11, 1):\n",
    "        knn = neighbors.KNeighborsRegressor(k, weights ='distance')\n",
    "        #y_ = []\n",
    "        y_mean = 0\n",
    "        y_symbol = 0\n",
    "        cv_times = range(50,62)\n",
    "        for cv_time in cv_times:\n",
    "            train_id = list(chain.from_iterable([list(range(63*k,(63*k+cv_time))) for k in range(num_tract)]))\n",
    "            test_id = [63*k+cv_time for k in range(num_tract)]\n",
    "            #print(test_id)\n",
    "            y_predict = knn.fit(train_x.iloc[train_id], train_y.iloc[train_id]).predict(train_x.iloc[test_id])\n",
    "            y_ += [y_predict]\n",
    "            mae = np.mean(abs(y_predict - train_y.iloc[test_id]))\n",
    "            y_mean += mae\n",
    "            y_symbol += sum(y_predict*train_y.iloc[test_id]>=0)/len(y_predict)\n",
    "        y_mean = y_mean / len(cv_times)\n",
    "        y_symbol = y_symbol / len(cv_times)\n",
    "        if y_mean < best_mae:\n",
    "            best_mae = y_mean\n",
    "            best_k = k\n",
    "            symbol = y_symbol\n",
    "            print((i, k, best_mae))\n",
    "    best_mae_lst.append(best_mae)\n",
    "    best_k_lst.append(best_k)\n",
    "    symbol_lst.append(symbol)"
   ]
  },
  {
   "cell_type": "code",
   "execution_count": 7,
   "metadata": {
    "collapsed": false
   },
   "outputs": [
    {
     "data": {
      "text/plain": [
       "[0.95667425104285175,\n",
       " 0.96264694728858557,\n",
       " 0.96449563898369373,\n",
       " 0.96321577550246484,\n",
       " 0.95193401592718996,\n",
       " 0.9569112627986347,\n",
       " 0.95975540386803182,\n",
       " 0.96027682973075468,\n",
       " 0.95297686765263556,\n",
       " 0.95563139931740615,\n",
       " 0.9616514979142966,\n",
       " 0.95833333333333337,\n",
       " 0.95724307925673113,\n",
       " 0.95648464163822522,\n",
       " 0.96165149791429672,\n",
       " 0.96411642017444066,\n",
       " 0.95672165339400816,\n",
       " 0.95477815699658697,\n",
       " 0.96278915434205548,\n",
       " 0.95401971937808128,\n",
       " 0.94994311717861202,\n",
       " 0.95458854759196077,\n",
       " 0.95951839211224865,\n",
       " 0.95994501327265835,\n",
       " 0.96321577550246484,\n",
       " 0.95335608646188852,\n",
       " 0.96027682973075479,\n",
       " 0.96245733788395882,\n",
       " 0.95947098976109191,\n",
       " 0.96169890026545313,\n",
       " 0.95913917330299581,\n",
       " 0.95790671217292378,\n",
       " 0.95951839211224887,\n",
       " 0.96127227910504365,\n",
       " 0.96027682973075457,\n",
       " 0.95217102768297313,\n",
       " 0.95842813803564653,\n",
       " 0.95183921122487691,\n",
       " 0.95913917330299592,\n",
       " 0.96392681076981424,\n",
       " 0.96146188850967018,\n",
       " 0.9643060295790673,\n",
       " 0.96013462267728478,\n",
       " 0.96169890026545313,\n",
       " 0.95766970041714072,\n",
       " 0.96312097080015169,\n",
       " 0.95326128175957525,\n",
       " 0.9582385286310201,\n",
       " 0.96681835419036799,\n",
       " 0.95937618505877886]"
      ]
     },
     "execution_count": 7,
     "metadata": {},
     "output_type": "execute_result"
    }
   ],
   "source": [
    "lst = symbol_lst\n",
    "lst"
   ]
  },
  {
   "cell_type": "code",
   "execution_count": 8,
   "metadata": {
    "collapsed": false
   },
   "outputs": [
    {
     "data": {
      "text/plain": [
       "2.1337667001739997"
      ]
     },
     "execution_count": 8,
     "metadata": {},
     "output_type": "execute_result"
    }
   ],
   "source": [
    "#draw MAE\n",
    "plt.figure(figsize=(8,6), dpi=60)\n",
    "plt.plot(range(s), best_mae_lst, 'k')\n",
    "plt.xlabel('Index of bootstrapping samles')\n",
    "plt.ylabel('MAE')\n",
    "plt.savefig(\"final_results/MAE.png\", dpi = 60)\n",
    "np.mean(best_mae_lst)"
   ]
  },
  {
   "cell_type": "code",
   "execution_count": 9,
   "metadata": {
    "collapsed": false
   },
   "outputs": [],
   "source": [
    "#get predictions\n",
    "y_pre_lst = []\n",
    "for i in range(s):\n",
    "    train_y = train_lst[i]['dv'] #get dependent variable\n",
    "    train_x = train_lst[i].drop(train_lst[i].columns[3], axis = 1) #delete dependent variables\n",
    "    knn = neighbors.KNeighborsRegressor(best_k_lst[i], weights ='distance')\n",
    "    y_pre = knn.fit(train_x, train_y).predict(test)\n",
    "    y_pre_lst.append(y_pre)\n",
    "y_pre_mat = np.array(y_pre_lst)\n",
    "y_final_pre = np.mean(y_pre_mat, 0)\n",
    "\n",
    "#get prediction in 2015.4\n",
    "y_final_pre_2 = [y_final_pre[12*i] for i in range(1758)]"
   ]
  },
  {
   "cell_type": "code",
   "execution_count": 52,
   "metadata": {
    "collapsed": false
   },
   "outputs": [],
   "source": [
    "pd.Series(y_final_pre, index = range(1, 21097, 1)).to_csv(\"final_results/all_predictions.csv\")"
   ]
  },
  {
   "cell_type": "code",
   "execution_count": 11,
   "metadata": {
    "collapsed": false
   },
   "outputs": [
    {
     "name": "stderr",
     "output_type": "stream",
     "text": [
      "C:\\Users\\green\\Anaconda3\\lib\\site-packages\\matplotlib\\pyplot.py:524: RuntimeWarning: More than 20 figures have been opened. Figures created through the pyplot interface (`matplotlib.pyplot.figure`) are retained until explicitly closed and may consume too much memory. (To control this warning, see the rcParam `figure.max_open_warning`).\n",
      "  max_open_warning, RuntimeWarning)\n"
     ]
    }
   ],
   "source": [
    "# draw graphs to show predictions of each tract\n",
    "for i in range(1758):\n",
    "    filename = \"final_results/figure/%d.png\" % i\n",
    "    plt.figure(figsize=(8,6), dpi=60)\n",
    "    plt.plot(range(12), y_final_pre[i*12:(i+1)*12], 'k')\n",
    "    plt.xlabel('Date')\n",
    "    plt.ylabel('Future Annual Return')\n",
    "    plt.savefig(filename, dpi = 60)"
   ]
  },
  {
   "cell_type": "code",
   "execution_count": 15,
   "metadata": {
    "collapsed": false
   },
   "outputs": [],
   "source": [
    "#output average increase rates for each tract\n",
    "unique_tract = list((set(tract_id)))\n",
    "tract_rate = []\n",
    "tract_2015_4 = []\n",
    "for i in range(1758):\n",
    "    future_rate = y_final_pre[i*12:(i+1)*12]\n",
    "    tract_rate.append(np.mean(future_rate))\n",
    "    tract_2015_4.append(y_final_pre_2[i])\n",
    "data = {'Future Annual Increase Rate': tract_rate,\n",
    "        'TRACT_GEOID': unique_tract}\n",
    "data1 = {'Future Annual Increase Rate': tract_2015_4,\n",
    "        'TRACT_GEOID': unique_tract}\n",
    "df = pd.DataFrame(data, index = range(1, 1759, 1))\n",
    "df_2016 = pd.DataFrame(data1, index = range(1, 1759, 1))\n",
    "df.to_csv('final_results/final_prediction.csv')\n",
    "df_2016.to_csv('final_results/2015_4_prediction.csv')"
   ]
  },
  {
   "cell_type": "code",
   "execution_count": 19,
   "metadata": {
    "collapsed": false
   },
   "outputs": [],
   "source": [
    "# final recommendations\n",
    "recommend = dict()\n",
    "recommend['invest'] = []\n",
    "recommend['hold'] = []\n",
    "recommend['divest'] = []\n",
    "unique_tract = list((set(tract_id)))\n",
    "tract_rate = []\n",
    "for i in range(1758):\n",
    "    future_rate = y_final_pre[i*12:(i+1)*12]\n",
    "    tract_rate.append(np.mean(future_rate))\n",
    "    if future_rate[1] < future_rate[0]:\n",
    "        recommend['divest'].append(unique_tract[i])\n",
    "    elif future_rate[0] > 0.2:\n",
    "        recommend['invest'].append(unique_tract[i])\n",
    "    else:\n",
    "        recommend['hold'].append(unique_tract[i])"
   ]
  },
  {
   "cell_type": "code",
   "execution_count": 27,
   "metadata": {
    "collapsed": false
   },
   "outputs": [],
   "source": [
    "#output invest decisions for each tract\n",
    "n_1 = len(recommend['divest'])\n",
    "n_2 = len(recommend['hold'])\n",
    "n_3 = len(recommend['invest'])\n",
    "n_max = max(n_1, n_2, n_3)\n",
    "for i in range(n_max - n_1):\n",
    "    recommend['divest'].append(0)\n",
    "for i in range(n_max - n_3):\n",
    "    recommend['invest'].append(0)\n",
    "df_2 = pd.DataFrame(recommend, index = range(1, n_max+1, 1))\n",
    "df_2.to_csv('invest_decisions.csv')"
   ]
  },
  {
   "cell_type": "code",
   "execution_count": 26,
   "metadata": {
    "collapsed": false
   },
   "outputs": [
    {
     "data": {
      "text/plain": [
       "840"
      ]
     },
     "execution_count": 26,
     "metadata": {},
     "output_type": "execute_result"
    }
   ],
   "source": [
    "n_1"
   ]
  },
  {
   "cell_type": "code",
   "execution_count": 28,
   "metadata": {
    "collapsed": false
   },
   "outputs": [],
   "source": [
    "new_df = dict()\n",
    "for tract in unique_tract:\n",
    "    if tract in recommend['invest']:\n",
    "        new_df[tract] = 3\n",
    "    elif tract in recommend['hold']:\n",
    "        new_df[tract] = 2\n",
    "    else:\n",
    "        new_df[tract] = 1\n",
    "final_df = dict()\n",
    "final_df['GEOID'] = [k for k in new_df.keys()]\n",
    "final_df['decision'] = [v for v in new_df.values()]"
   ]
  },
  {
   "cell_type": "code",
   "execution_count": 29,
   "metadata": {
    "collapsed": true
   },
   "outputs": [],
   "source": [
    "df_3 = pd.DataFrame(final_df, index = range(1, 1759, 1))\n",
    "df_3.to_csv('final_results/tract_decisions.csv')"
   ]
  },
  {
   "cell_type": "code",
   "execution_count": 5,
   "metadata": {
    "collapsed": false
   },
   "outputs": [
    {
     "name": "stdout",
     "output_type": "stream",
     "text": [
      "(1, 6.4968118110876905)\n",
      "(2, 6.301173121467906)\n",
      "(3, 6.173240622644924)\n",
      "(4, 5.966675882056235)\n",
      "(5, 5.858295697876859)\n",
      "(6, 5.74428054377989)\n",
      "(7, 5.638902350126948)\n",
      "(8, 5.599278349793313)\n",
      "(9, 5.557570289779132)\n",
      "(10, 5.517544386503674)\n",
      "(11, 5.517544386503674)\n",
      "(12, 5.517544386503674)\n",
      "(13, 5.499337073192289)\n",
      "(14, 5.499337073192289)\n",
      "(15, 5.499337073192289)\n"
     ]
    }
   ],
   "source": [
    "#knn without ensemble\n",
    "train = total.loc[total['MP_DATE'] < 1.098845, :]\n",
    "cv = total.loc[total['MP_DATE'] >= 1.098845, :]\n",
    "train_y = train['dv']\n",
    "train_x = train.drop(train.columns[3], axis = 1)\n",
    "cv_y = cv['dv']\n",
    "cv_x = cv.drop(cv.columns[0], axis = 1)\n",
    "\n",
    "best_rss_no = sys.maxsize\n",
    "best_k_no = 1\n",
    "\n",
    "for i in range(1, 16, 1):\n",
    "    knn = neighbors.KNeighborsRegressor(i, weights ='distance')\n",
    "    y_ = knn.fit(train_x, train_y).predict(cv_x)\n",
    "    mid = np.mean(abs(y_ - cv_y))\n",
    "    if mid < best_rss_no:\n",
    "        best_rss_no = mid\n",
    "        best_k_no = i\n",
    "    print((i, best_rss_no))"
   ]
  },
  {
   "cell_type": "code",
   "execution_count": 6,
   "metadata": {
    "collapsed": false
   },
   "outputs": [],
   "source": [
    "#get model performance without ensemble\n",
    "knn = neighbors.KNeighborsRegressor(best_k_no, weights ='distance')\n",
    "y_no = knn.fit(train_x, train_y).predict(cv_x)\n",
    "accuracy = (sum(y_no*cv_y>0)/len(cv_y))\n",
    "MAE_no = np.mean(abs(y_no - cv_y))"
   ]
  },
  {
   "cell_type": "code",
   "execution_count": 25,
   "metadata": {
    "collapsed": false
   },
   "outputs": [
    {
     "data": {
      "text/plain": [
       "0.94539249146757676"
      ]
     },
     "execution_count": 25,
     "metadata": {},
     "output_type": "execute_result"
    }
   ],
   "source": [
    "#draw correct rate (comparison)\n",
    "plt.figure(figsize=(8,6), dpi=60)\n",
    "plt.plot(range(s), lst, 'k')\n",
    "plt.plot(range(s), symbol_lst*s, 'k', color = 'r')\n",
    "plt.xlabel('Index of bootstrapping samples')\n",
    "plt.ylabel('Accuracy')\n",
    "plt.savefig(\"final_results/accuracy2.png\", dpi = 60)\n",
    "np.mean(symbol_lst)"
   ]
  },
  {
   "cell_type": "code",
   "execution_count": 63,
   "metadata": {
    "collapsed": false
   },
   "outputs": [
    {
     "name": "stderr",
     "output_type": "stream",
     "text": [
      "C:\\Users\\green\\Anaconda3\\lib\\site-packages\\matplotlib\\pyplot.py:524: RuntimeWarning: More than 20 figures have been opened. Figures created through the pyplot interface (`matplotlib.pyplot.figure`) are retained until explicitly closed and may consume too much memory. (To control this warning, see the rcParam `figure.max_open_warning`).\n",
      "  max_open_warning, RuntimeWarning)\n"
     ]
    },
    {
     "data": {
      "text/plain": [
       "0.95995544178991266"
      ]
     },
     "execution_count": 63,
     "metadata": {},
     "output_type": "execute_result"
    }
   ],
   "source": [
    "#draw correct rate (no comparison)\n",
    "plt.figure(figsize=(8,6), dpi=60)\n",
    "plt.plot(range(s), symbol_lst, 'k')\n",
    "plt.xlabel('Index of bootstrapping samles')\n",
    "plt.ylabel('Accuracy')\n",
    "plt.savefig(\"final_results/accuracy_scale.png\", dpi = 60)\n",
    "np.mean(symbol_lst)"
   ]
  },
  {
   "cell_type": "code",
   "execution_count": 252,
   "metadata": {
    "collapsed": true
   },
   "outputs": [],
   "source": [
    "data_15_3 = pd.DataFrame()\n",
    "for j in range(num_tract):\n",
    "    data_15_3 = data_15_3.append(total.iloc[62+63*j])\n",
    "train_15_3 = data_15_3.drop(data_15_3.columns[3], axis = 1)"
   ]
  },
  {
   "cell_type": "code",
   "execution_count": 254,
   "metadata": {
    "collapsed": false
   },
   "outputs": [],
   "source": [
    "#get predictions\n",
    "y_pre_lst = []\n",
    "for i in range(s):\n",
    "    train_y = train_lst[i]['dv'] #get dependent variable\n",
    "    train_x = train_lst[i].drop(train_lst[i].columns[3], axis = 1) #delete dependent variables\n",
    "    knn = neighbors.KNeighborsRegressor(best_k_lst[i], weights ='distance')\n",
    "    y_pre = knn.fit(train_x, train_y).predict(train_15_3)\n",
    "    y_pre_lst.append(y_pre)\n",
    "y_pre_mat = np.array(y_pre_lst)\n",
    "y_final_pre = np.mean(y_pre_mat, 0)"
   ]
  },
  {
   "cell_type": "code",
   "execution_count": 255,
   "metadata": {
    "collapsed": true
   },
   "outputs": [],
   "source": [
    "#output average increase rates for each tract\n",
    "unique_tract = list((set(tract_id)))\n",
    "tract_2015_3 = []\n",
    "for i in range(1758):\n",
    "    tract_rate.append(np.mean(future_rate))\n",
    "    tract_2015_3.append(y_final_pre_2[i])\n",
    "data1 = {'Future Annual Increase Rate': tract_2015_3,\n",
    "        'TRACT_GEOID': unique_tract}\n",
    "df_2015_3 = pd.DataFrame(data1, index = range(1, 1759, 1))\n",
    "df_2015_3.to_csv('final_results/2015_3_prediction.csv')"
   ]
  },
  {
   "cell_type": "code",
   "execution_count": 59,
   "metadata": {
    "collapsed": false
   },
   "outputs": [
    {
     "data": {
      "text/plain": [
       "MP_DATE    1.098845\n",
       "lon        0.344138\n",
       "lat        1.021606\n",
       "dv        -0.398340\n",
       "Name: 51, dtype: float64"
      ]
     },
     "execution_count": 59,
     "metadata": {},
     "output_type": "execute_result"
    }
   ],
   "source": [
    "total.loc[51]"
   ]
  },
  {
   "cell_type": "code",
   "execution_count": null,
   "metadata": {
    "collapsed": true
   },
   "outputs": [],
   "source": [
    "for blocksize in range(25):\n",
    "    print(\"Current Block Size: \"+str(blocksize))\n",
    "    \n",
    "    #get 10 block bootstrapping samples\n",
    "    for j in range(num_tract):\n",
    "        sub_data = total.iloc[63*j:63*(j+1)]\n",
    "        bs = StationaryBootstrap(blocksize, sub_data)\n",
    "        if j == 0:\n",
    "            train_lst = [data[0][0] for data in bs.bootstrap(s)]\n",
    "        else:\n",
    "            i = 0\n",
    "            for data in bs.bootstrap(s):\n",
    "                train_lst[i] = train_lst[i].append(data[0][0])\n",
    "                i += 1\n",
    "    print(\"Finish Bootstrapping\")\n",
    "\n",
    "            \n",
    "    #get unselected samples as my cross validation\n",
    "    ind_all = set(total.index)\n",
    "    ind_diff = []\n",
    "    possible_oob = set(chain.from_iterable([list(range(63*k+24,63*(k+1)+1)) for k in range(1758)]))\n",
    "    d_oob_learner = dict()\n",
    "    d_oob_cv = dict()\n",
    "\n",
    "    for i in range(s):\n",
    "        ind_unselected = list(possible_oob.intersection(ind_all - set(train_lst[i].index)))\n",
    "        print(len(ind_unselected))\n",
    "        for item in ind_unselected:\n",
    "            try:\n",
    "                d_oob_learner[item] += [i]\n",
    "            except:\n",
    "                d_oob_learner[item] = [i]\n",
    "        d_oob_cv[i] = ind_unselected\n",
    "    print(\"Finish collecting feasible OOB for CV and prediction\")\n",
    "    \n",
    "    \n",
    "    #find best k for each bootstrapping sample --> model parameter\n",
    "    best_k_lst = []\n",
    "    best_mae_lst = []\n",
    "    symbol_lst = []\n",
    "    y_ = []\n",
    "    for i in range(s):\n",
    "        train_y = train_lst[i]['dv'] #get dependent variable\n",
    "        train_x = train_lst[i].drop(train_lst[i].columns[3], axis = 1) #delete dependent variables\n",
    "\n",
    "        best_mae = sys.maxsize\n",
    "        for k in range(1, 32, 5):\n",
    "            knn = neighbors.KNeighborsRegressor(k, weights ='distance')\n",
    "            y_ = []\n",
    "            y_mean = 0\n",
    "            y_symbol = 0\n",
    "            cv_times = range(50,62)\n",
    "            for cv_time in cv_times:\n",
    "                train_id = list(chain.from_iterable([list(range(63*k,(63*k+cv_time))) for k in range(num_tract)]))\n",
    "                test_id = [63*k+cv_time for k in range(num_tract)]\n",
    "            #print(test_id)\n",
    "                y_predict = knn.fit(train_x.iloc[train_id], train_y.iloc[train_id]).predict(train_x.iloc[test_id])\n",
    "                y_ += [y_predict]\n",
    "                mae = np.mean(abs(y_predict - train_y.iloc[test_id]))\n",
    "                y_mean += mae\n",
    "                y_symbol += sum(y_predict*train_y.iloc[test_id]>=0)/len(y_predict)\n",
    "            y_mean = y_mean / len(cv_times)\n",
    "            y_symbol = y_symbol / len(cv_times)\n",
    "            if y_mean < best_mae:\n",
    "                best_mae = y_mean\n",
    "                best_k = k\n",
    "                symbol = y_symbol\n",
    "                print((i, k, best_mae))\n",
    "        best_mae_lst.append(best_mae)\n",
    "        best_k_lst.append(best_k)\n",
    "        symbol_lst.append(symbol)\n",
    "\n"
   ]
  },
  {
   "cell_type": "code",
   "execution_count": 23,
   "metadata": {
    "collapsed": false
   },
   "outputs": [
    {
     "name": "stdout",
     "output_type": "stream",
     "text": [
      "(0, 1, 4.447023224609177)\n",
      "(0, 2, 3.9923118347370257)\n",
      "(0, 3, 3.780615891468511)\n",
      "(0, 5, 3.739009739413857)\n",
      "(0, 6, 3.6847373402018495)\n",
      "(0, 7, 3.628582636651039)\n",
      "(0, 8, 3.608511551253096)\n",
      "(0, 9, 3.583130223809627)\n",
      "(0, 10, 3.5754736168227)\n"
     ]
    }
   ],
   "source": [
    "#find best k for sample without bagging\n",
    "best_k_lst = []\n",
    "best_mae_lst = []\n",
    "symbol_lst = []\n",
    "y_ = []\n",
    "for i in range(1):\n",
    "    train_y = train_lst[i]['dv'] #get dependent variable\n",
    "    train_x = train_lst[i].drop(train_lst[i].columns[3], axis = 1) #delete dependent variables\n",
    "\n",
    "    best_mae = sys.maxsize\n",
    "    for k in range(1, 11, 1):\n",
    "        knn = neighbors.KNeighborsRegressor(k, weights ='distance')\n",
    "        #y_ = []\n",
    "        y_mean = 0\n",
    "        y_symbol = 0\n",
    "        cv_times = range(50,62)\n",
    "        for cv_time in cv_times:\n",
    "            train_id = list(chain.from_iterable([list(range(63*k,(63*k+cv_time))) for k in range(num_tract)]))\n",
    "            test_id = [63*k+cv_time for k in range(num_tract)]\n",
    "            #print(test_id)\n",
    "            y_predict = knn.fit(train_x.iloc[train_id], train_y.iloc[train_id]).predict(train_x.iloc[test_id])\n",
    "            y_ += [y_predict]\n",
    "            mae = np.mean(abs(y_predict - train_y.iloc[test_id]))\n",
    "            y_mean += mae\n",
    "            y_symbol += sum(y_predict*train_y.iloc[test_id]>=0)/len(y_predict)\n",
    "        y_mean = y_mean / len(cv_times)\n",
    "        y_symbol = y_symbol / len(cv_times)\n",
    "        if y_mean < best_mae:\n",
    "            best_mae = y_mean\n",
    "            best_k = k\n",
    "            symbol = y_symbol\n",
    "            print((i, k, best_mae))\n",
    "    best_mae_lst.append(best_mae)\n",
    "    best_k_lst.append(best_k)\n",
    "    symbol_lst.append(symbol)"
   ]
  },
  {
   "cell_type": "code",
   "execution_count": 24,
   "metadata": {
    "collapsed": false
   },
   "outputs": [
    {
     "data": {
      "text/plain": [
       "[0.94539249146757676]"
      ]
     },
     "execution_count": 24,
     "metadata": {},
     "output_type": "execute_result"
    }
   ],
   "source": [
    "symbol_lst"
   ]
  }
 ],
 "metadata": {
  "anaconda-cloud": {},
  "kernelspec": {
   "display_name": "Python [default]",
   "language": "python",
   "name": "python3"
  },
  "language_info": {
   "codemirror_mode": {
    "name": "ipython",
    "version": 3
   },
   "file_extension": ".py",
   "mimetype": "text/x-python",
   "name": "python",
   "nbconvert_exporter": "python",
   "pygments_lexer": "ipython3",
   "version": "3.5.2"
  }
 },
 "nbformat": 4,
 "nbformat_minor": 1
}
