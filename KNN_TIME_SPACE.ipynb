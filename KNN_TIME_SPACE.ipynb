{
 "cells": [
  {
   "cell_type": "code",
   "execution_count": null,
   "metadata": {
    "collapsed": true
   },
   "outputs": [],
   "source": [
    "from sklearn import neighbors\n",
    "from sklearn.decomposition import PCA\n",
    "from arch.bootstrap import StationaryBootstrap\n",
    "import numpy as np\n",
    "import matplotlib.pyplot as plt\n",
    "import pandas as pd\n",
    "import datetime as dt\n",
    "import math\n",
    "import sys\n",
    "import random"
   ]
  },
  {
   "cell_type": "code",
   "execution_count": 2,
   "metadata": {
    "collapsed": false
   },
   "outputs": [],
   "source": [
    "#read training and cross validation set\n",
    "total = pd.read_csv(\"time_space.csv\")\n",
    "n = total.shape[0]\n",
    "\n",
    "total = total.drop(total.columns[0], axis = 1) #delete index\n",
    "\n",
    "tract_id = total['GEOID']\n",
    "total = total.drop(total.columns[0], axis = 1) #delete tract_geoid\n",
    "    \n",
    "mp_date = total['MP_DATE']\n",
    "origin = dt.datetime.strptime(total.loc[0, 'MP_DATE'],'%Y-%m-%d').date()\n",
    "for i in range(n):\n",
    "    now = dt.datetime.strptime(total.loc[i, 'MP_DATE'],'%Y-%m-%d').date()\n",
    "    total.loc[i, 'MP_DATE'] = (now - origin).days/30.0\n",
    "\n",
    "values = total['values']\n",
    "total = total.drop(total.columns[3], axis = 1)"
   ]
  },
  {
   "cell_type": "code",
   "execution_count": 93,
   "metadata": {
    "collapsed": true
   },
   "outputs": [],
   "source": [
    "#get m block bootstrapping samples\n",
    "s = 20\n",
    "for j in range(1758):\n",
    "    sub_data = total.iloc[63*j:63*(j+1)]\n",
    "    bs = StationaryBootstrap(12, sub_data)\n",
    "    if j == 0:\n",
    "        train_lst = [data[0][0] for data in bs.bootstrap(s)]\n",
    "    else:\n",
    "        i = 0\n",
    "        for data in bs.bootstrap(s):\n",
    "            train_lst[i] = train_lst[i].append(data[0][0])\n",
    "            i += 1"
   ]
  },
  {
   "cell_type": "code",
   "execution_count": 95,
   "metadata": {
    "collapsed": false
   },
   "outputs": [],
   "source": [
    "#get unselected samples as my cross validation\n",
    "ind_all = set(total.index)\n",
    "ind_diff = []\n",
    "for i in range(s):\n",
    "    ind_selected = set(train_lst[i].index)\n",
    "    ind_diff.append(list(ind_all - ind_selected))\n",
    "#create cross validation\n",
    "cv_lst = [total.iloc[ind_diff[i]] for i in range(s)]"
   ]
  },
  {
   "cell_type": "code",
   "execution_count": 96,
   "metadata": {
    "collapsed": false
   },
   "outputs": [
    {
     "name": "stdout",
     "output_type": "stream",
     "text": [
      "(0, 2)\n",
      "(0, 4)\n",
      "(0, 6)\n",
      "(0, 8)\n",
      "(0, 10)\n",
      "(0, 12)\n",
      "(0, 14)\n",
      "(0, 16)\n",
      "(0, 18)\n",
      "(0, 20)\n",
      "(0, 22)\n",
      "(0, 24)\n",
      "(0, 26)\n",
      "(0, 28)\n",
      "(1, 2)\n",
      "(1, 4)\n",
      "(1, 6)\n",
      "(1, 8)\n",
      "(1, 10)\n",
      "(1, 12)\n",
      "(1, 14)\n",
      "(1, 16)\n",
      "(1, 18)\n",
      "(1, 20)\n",
      "(1, 22)\n",
      "(1, 24)\n",
      "(1, 26)\n",
      "(1, 28)\n",
      "(2, 2)\n",
      "(2, 4)\n",
      "(2, 6)\n",
      "(2, 8)\n",
      "(2, 10)\n",
      "(2, 12)\n",
      "(2, 14)\n",
      "(2, 16)\n",
      "(2, 18)\n",
      "(2, 20)\n",
      "(2, 22)\n",
      "(2, 24)\n",
      "(2, 26)\n",
      "(2, 28)\n",
      "(3, 2)\n",
      "(3, 4)\n",
      "(3, 6)\n",
      "(3, 8)\n",
      "(3, 10)\n",
      "(3, 12)\n",
      "(3, 14)\n",
      "(3, 16)\n",
      "(3, 18)\n",
      "(3, 20)\n",
      "(3, 22)\n",
      "(3, 24)\n",
      "(3, 26)\n",
      "(3, 28)\n",
      "(4, 2)\n",
      "(4, 4)\n",
      "(4, 6)\n",
      "(4, 8)\n",
      "(4, 10)\n",
      "(4, 12)\n",
      "(4, 14)\n",
      "(4, 16)\n",
      "(4, 18)\n",
      "(4, 20)\n",
      "(4, 22)\n",
      "(4, 24)\n",
      "(4, 26)\n",
      "(4, 28)\n",
      "(5, 2)\n",
      "(5, 4)\n",
      "(5, 6)\n",
      "(5, 8)\n",
      "(5, 10)\n",
      "(5, 12)\n",
      "(5, 14)\n",
      "(5, 16)\n",
      "(5, 18)\n",
      "(5, 20)\n",
      "(5, 22)\n",
      "(5, 24)\n",
      "(5, 26)\n",
      "(5, 28)\n",
      "(6, 2)\n",
      "(6, 4)\n",
      "(6, 6)\n",
      "(6, 8)\n",
      "(6, 10)\n",
      "(6, 12)\n",
      "(6, 14)\n",
      "(6, 16)\n",
      "(6, 18)\n",
      "(6, 20)\n",
      "(6, 22)\n",
      "(6, 24)\n",
      "(6, 26)\n",
      "(6, 28)\n",
      "(7, 2)\n",
      "(7, 4)\n",
      "(7, 6)\n",
      "(7, 8)\n",
      "(7, 10)\n",
      "(7, 12)\n",
      "(7, 14)\n",
      "(7, 16)\n",
      "(7, 18)\n",
      "(7, 20)\n",
      "(7, 22)\n",
      "(7, 24)\n",
      "(7, 26)\n",
      "(7, 28)\n",
      "(8, 2)\n",
      "(8, 4)\n",
      "(8, 6)\n",
      "(8, 8)\n",
      "(8, 10)\n",
      "(8, 12)\n",
      "(8, 14)\n",
      "(8, 16)\n",
      "(8, 18)\n",
      "(8, 20)\n",
      "(8, 22)\n",
      "(8, 24)\n",
      "(8, 26)\n",
      "(8, 28)\n",
      "(9, 2)\n",
      "(9, 4)\n",
      "(9, 6)\n",
      "(9, 8)\n",
      "(9, 10)\n",
      "(9, 12)\n",
      "(9, 14)\n",
      "(9, 16)\n",
      "(9, 18)\n",
      "(9, 20)\n",
      "(9, 22)\n",
      "(9, 24)\n",
      "(9, 26)\n",
      "(9, 28)\n",
      "(10, 2)\n",
      "(10, 4)\n",
      "(10, 6)\n",
      "(10, 8)\n",
      "(10, 10)\n",
      "(10, 12)\n",
      "(10, 14)\n",
      "(10, 16)\n",
      "(10, 18)\n",
      "(10, 20)\n",
      "(10, 22)\n",
      "(10, 24)\n",
      "(10, 26)\n",
      "(10, 28)\n",
      "(11, 2)\n",
      "(11, 4)\n",
      "(11, 6)\n",
      "(11, 8)\n",
      "(11, 10)\n",
      "(11, 12)\n",
      "(11, 14)\n",
      "(11, 16)\n",
      "(11, 18)\n",
      "(11, 20)\n",
      "(11, 22)\n",
      "(11, 24)\n",
      "(11, 26)\n",
      "(11, 28)\n",
      "(12, 2)\n",
      "(12, 4)\n",
      "(12, 6)\n",
      "(12, 8)\n",
      "(12, 10)\n",
      "(12, 12)\n",
      "(12, 14)\n",
      "(12, 16)\n",
      "(12, 18)\n",
      "(12, 20)\n",
      "(12, 22)\n",
      "(12, 24)\n",
      "(12, 26)\n",
      "(12, 28)\n",
      "(13, 2)\n",
      "(13, 4)\n",
      "(13, 6)\n",
      "(13, 8)\n",
      "(13, 10)\n",
      "(13, 12)\n",
      "(13, 14)\n",
      "(13, 16)\n",
      "(13, 18)\n",
      "(13, 20)\n",
      "(13, 22)\n",
      "(13, 24)\n",
      "(13, 26)\n",
      "(13, 28)\n",
      "(14, 2)\n",
      "(14, 4)\n",
      "(14, 6)\n",
      "(14, 8)\n",
      "(14, 10)\n",
      "(14, 12)\n",
      "(14, 14)\n",
      "(14, 16)\n",
      "(14, 18)\n",
      "(14, 20)\n",
      "(14, 22)\n",
      "(14, 24)\n",
      "(14, 26)\n",
      "(14, 28)\n",
      "(15, 2)\n",
      "(15, 4)\n",
      "(15, 6)\n",
      "(15, 8)\n",
      "(15, 10)\n",
      "(15, 12)\n",
      "(15, 14)\n",
      "(15, 16)\n",
      "(15, 18)\n",
      "(15, 20)\n",
      "(15, 22)\n",
      "(15, 24)\n",
      "(15, 26)\n",
      "(15, 28)\n",
      "(16, 2)\n",
      "(16, 4)\n",
      "(16, 6)\n",
      "(16, 8)\n",
      "(16, 10)\n",
      "(16, 12)\n",
      "(16, 14)\n",
      "(16, 16)\n",
      "(16, 18)\n",
      "(16, 20)\n",
      "(16, 22)\n",
      "(16, 24)\n",
      "(16, 26)\n",
      "(16, 28)\n",
      "(17, 2)\n",
      "(17, 4)\n",
      "(17, 6)\n",
      "(17, 8)\n",
      "(17, 10)\n",
      "(17, 12)\n",
      "(17, 14)\n",
      "(17, 16)\n",
      "(17, 18)\n",
      "(17, 20)\n",
      "(17, 22)\n",
      "(17, 24)\n",
      "(17, 26)\n",
      "(17, 28)\n",
      "(18, 2)\n",
      "(18, 4)\n",
      "(18, 6)\n",
      "(18, 8)\n",
      "(18, 10)\n",
      "(18, 12)\n",
      "(18, 14)\n",
      "(18, 16)\n",
      "(18, 18)\n",
      "(18, 20)\n",
      "(18, 22)\n",
      "(18, 24)\n",
      "(18, 26)\n",
      "(18, 28)\n",
      "(19, 2)\n",
      "(19, 4)\n",
      "(19, 6)\n",
      "(19, 8)\n",
      "(19, 10)\n",
      "(19, 12)\n",
      "(19, 14)\n",
      "(19, 16)\n",
      "(19, 18)\n",
      "(19, 20)\n",
      "(19, 22)\n",
      "(19, 24)\n",
      "(19, 26)\n",
      "(19, 28)\n"
     ]
    }
   ],
   "source": [
    "#find best k for each bootstrapping sample\n",
    "j = 0\n",
    "best_k_lst = []\n",
    "for i in range(s):\n",
    "    train_y = train_lst[i]['dv'] #get dependent variable\n",
    "    cv_y = cv_lst[i]['dv']\n",
    "    train_x = train_lst[i].drop(train_lst[i].columns[3], axis = 1) #delete dependent variables\n",
    "    cv_x = cv_lst[i].drop(cv_lst[i].columns[3], axis = 1)\n",
    "    best_rss = sys.maxsize\n",
    "    for j in range(2, 30, 2):\n",
    "        knn = neighbors.KNeighborsRegressor(j, weights ='distance')\n",
    "        y_ = knn.fit(train_x, train_y).predict(cv_x)\n",
    "        mid = np.mean((y_ - cv_y)**2)\n",
    "        if mid < best_rss:\n",
    "            best_rss = mid\n",
    "            best_k = j\n",
    "        print((i, j))\n",
    "    best_k_lst.append(best_k)"
   ]
  },
  {
   "cell_type": "code",
   "execution_count": 6,
   "metadata": {
    "collapsed": false
   },
   "outputs": [],
   "source": [
    "#get test data\n",
    "test = pd.read_csv(\"test_data.csv\")\n",
    "m = test.shape[0]\n",
    "test = test.drop(test.columns[0], axis = 1) #delete index\n",
    "test_geoid = test['GEOID']\n",
    "test = test.drop(test.columns[0], axis = 1) #delete GEOID\n",
    "for i in range(m):\n",
    "    now = dt.datetime.strptime(test.loc[i, 'MP_DATE'],'%Y-%m-%d').date()\n",
    "    test.loc[i, 'MP_DATE'] = (now - origin).days/30.0"
   ]
  },
  {
   "cell_type": "code",
   "execution_count": 102,
   "metadata": {
    "collapsed": false
   },
   "outputs": [],
   "source": [
    "#get predictions\n",
    "y_pre_lst = []\n",
    "for i in range(s):\n",
    "    train_y = train_lst[i]['dv'] #get dependent variable\n",
    "    train_x = train_lst[i].drop(train_lst[i].columns[3], axis = 1) #delete dependent variables\n",
    "    knn = neighbors.KNeighborsRegressor(best_k_lst[i], weights ='distance')\n",
    "    y_pre = knn.fit(train_x, train_y).predict(test)\n",
    "    y_pre_lst.append(y_pre)"
   ]
  },
  {
   "cell_type": "code",
   "execution_count": 103,
   "metadata": {
    "collapsed": false,
    "scrolled": true
   },
   "outputs": [],
   "source": [
    "#get average predictions based on 10 predictions\n",
    "y_pre_mat = np.array(y_pre_lst)\n",
    "y_final_pre = np.mean(y_pre_mat, 0)"
   ]
  },
  {
   "cell_type": "code",
   "execution_count": 9,
   "metadata": {
    "collapsed": false
   },
   "outputs": [
    {
     "name": "stderr",
     "output_type": "stream",
     "text": [
      "C:\\Users\\green\\Anaconda3\\lib\\site-packages\\matplotlib\\pyplot.py:524: RuntimeWarning: More than 20 figures have been opened. Figures created through the pyplot interface (`matplotlib.pyplot.figure`) are retained until explicitly closed and may consume too much memory. (To control this warning, see the rcParam `figure.max_open_warning`).\n",
      "  max_open_warning, RuntimeWarning)\n"
     ]
    }
   ],
   "source": [
    "# draw graphs to show predictions of each tract\n",
    "for i in range(1758):\n",
    "    filename = \"figure/%d.png\" % i\n",
    "    plt.figure(figsize=(8,6), dpi=60)\n",
    "    plt.plot(range(12), y_final_pre[i*12:(i+1)*12], 'k')\n",
    "    plt.savefig(filename, dpi = 60)"
   ]
  },
  {
   "cell_type": "code",
   "execution_count": 104,
   "metadata": {
    "collapsed": false
   },
   "outputs": [],
   "source": [
    "# final recommendations\n",
    "recommend = dict()\n",
    "recommend['invest'] = []\n",
    "recommend['hold'] = []\n",
    "recommend['divest'] = []\n",
    "unique_tract = list((set(tract_id)))\n",
    "tract_rate = []\n",
    "for i in range(1758):\n",
    "    future_rate = y_final_pre[i*12:(i+1)*12]\n",
    "    tract_rate.append(np.mean(future_rate))\n",
    "    if future_rate[1] < future_rate[0]:\n",
    "        recommend['divest'].append(unique_tract[i])\n",
    "    elif future_rate[0] > 0.2:\n",
    "        recommend['invest'].append(unique_tract[i])\n",
    "    else:\n",
    "        recommend['hold'].append(unique_tract[i])"
   ]
  },
  {
   "cell_type": "code",
   "execution_count": 105,
   "metadata": {
    "collapsed": false
   },
   "outputs": [],
   "source": [
    "#output average increase rates for each tract\n",
    "data = {'Future Annual Increase Rate': tract_rate,\n",
    "        'TRACT_GEOID': unique_tract}\n",
    "df = pd.DataFrame(data, index = range(1, 1759, 1))\n",
    "df.to_csv('final_prediction.csv')"
   ]
  },
  {
   "cell_type": "code",
   "execution_count": 106,
   "metadata": {
    "collapsed": false
   },
   "outputs": [],
   "source": [
    "#output invest decisions for each tract\n",
    "n_1 = len(recommend['divest'])\n",
    "n_2 = len(recommend['hold'])\n",
    "n_3 = len(recommend['invest'])\n",
    "n_max = max(n_1, n_2, n_3)\n",
    "for i in range(n_max - n_2):\n",
    "    recommend['hold'].append(0)\n",
    "for i in range(n_max - n_3):\n",
    "    recommend['invest'].append(0)\n",
    "df_2 = pd.DataFrame(recommend, index = range(1, n_max+1, 1))\n",
    "df_2.to_csv('invest_decisions.csv')"
   ]
  },
  {
   "cell_type": "code",
   "execution_count": 107,
   "metadata": {
    "collapsed": false
   },
   "outputs": [],
   "source": [
    "#get model performance\n",
    "MAE_lst = []\n",
    "symbol_lst = []\n",
    "for i in range(s):\n",
    "    train_y = train_lst[i]['dv'] #get dependent variable\n",
    "    cv_y = cv_lst[i]['dv']\n",
    "    train_x = train_lst[i].drop(train_lst[i].columns[3], axis = 1) #delete dependent variables\n",
    "    cv_x = cv_lst[i].drop(cv_lst[i].columns[3], axis = 1)\n",
    "    knn = neighbors.KNeighborsRegressor(best_k_lst[i], weights ='distance')\n",
    "    y_ = knn.fit(train_x, train_y).predict(cv_x)\n",
    "    MAE_lst.append(np.mean(abs(y_ - cv_y)))\n",
    "    symbol_lst.append(sum(y_*cv_y>=0)/len(cv_y))"
   ]
  },
  {
   "cell_type": "code",
   "execution_count": 108,
   "metadata": {
    "collapsed": false
   },
   "outputs": [
    {
     "data": {
      "text/plain": [
       "5.443016068417621"
      ]
     },
     "execution_count": 108,
     "metadata": {},
     "output_type": "execute_result"
    }
   ],
   "source": [
    "#draw MAE\n",
    "plt.figure(figsize=(8,6), dpi=60)\n",
    "plt.plot(range(s), MAE_lst, 'k')\n",
    "plt.savefig(\"MAE.png\", dpi = 60)\n",
    "np.mean(MAE_lst)"
   ]
  },
  {
   "cell_type": "code",
   "execution_count": 109,
   "metadata": {
    "collapsed": false
   },
   "outputs": [
    {
     "data": {
      "text/plain": [
       "0.84970478969517749"
      ]
     },
     "execution_count": 109,
     "metadata": {},
     "output_type": "execute_result"
    }
   ],
   "source": [
    "#draw correct rate\n",
    "plt.figure(figsize=(8,6), dpi=60)\n",
    "plt.plot(range(s), symbol_lst, 'k')\n",
    "plt.savefig(\"symbol.png\", dpi = 60)\n",
    "np.mean(symbol_lst)"
   ]
  }
 ],
 "metadata": {
  "anaconda-cloud": {},
  "kernelspec": {
   "display_name": "Python [default]",
   "language": "python",
   "name": "python3"
  },
  "language_info": {
   "codemirror_mode": {
    "name": "ipython",
    "version": 3
   },
   "file_extension": ".py",
   "mimetype": "text/x-python",
   "name": "python",
   "nbconvert_exporter": "python",
   "pygments_lexer": "ipython3",
   "version": "3.5.2"
  }
 },
 "nbformat": 4,
 "nbformat_minor": 1
}
