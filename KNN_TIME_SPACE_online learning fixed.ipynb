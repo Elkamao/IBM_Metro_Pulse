{
 "cells": [
  {
   "cell_type": "code",
   "execution_count": 1,
   "metadata": {
    "collapsed": true
   },
   "outputs": [],
   "source": [
    "from sklearn import neighbors\n",
    "from sklearn import preprocessing\n",
    "from arch.bootstrap import StationaryBootstrap\n",
    "import numpy as np\n",
    "import matplotlib.pyplot as plt\n",
    "import pandas as pd\n",
    "import datetime as dt\n",
    "import math\n",
    "import sys\n",
    "import random\n",
    "from itertools import chain"
   ]
  },
  {
   "cell_type": "code",
   "execution_count": 10,
   "metadata": {
    "collapsed": false
   },
   "outputs": [],
   "source": [
    "#read training and cross validation set\n",
    "total = pd.read_csv(\"time_space.csv\")\n",
    "n = total.shape[0]\n",
    "num_tract = 1758\n",
    "\n",
    "total = total.drop(total.columns[0], axis = 1) #delete index\n",
    "\n",
    "tract_id = total['GEOID']\n",
    "total = total.drop(total.columns[0], axis = 1) #delete tract_geoid\n",
    "    \n",
    "mp_date = total['MP_DATE']\n",
    "origin = dt.datetime.strptime(total.loc[0, 'MP_DATE'],'%Y-%m-%d').date()\n",
    "for i in range(n):\n",
    "    now = dt.datetime.strptime(total.loc[i, 'MP_DATE'],'%Y-%m-%d').date()\n",
    "    total.loc[i, 'MP_DATE'] = (now - origin).days/30.0    \n",
    "values = total['values']\n",
    "total = total.drop(total.columns[3], axis = 1) #delete values\n",
    "\n",
    "test = pd.read_csv(\"test_data.csv\")\n",
    "m = test.shape[0]\n",
    "test = test.drop(test.columns[0], axis = 1) #delete index\n",
    "test_geoid = test['GEOID']\n",
    "test = test.drop(test.columns[0], axis = 1) #delete GEOID\n",
    "for i in range(m):\n",
    "    now = dt.datetime.strptime(test.loc[i, 'MP_DATE'],'%Y-%m-%d').date()\n",
    "    test.loc[i, 'MP_DATE'] = (now - origin).days/30.0"
   ]
  },
  {
   "cell_type": "code",
   "execution_count": 4,
   "metadata": {
    "collapsed": false
   },
   "outputs": [],
   "source": [
    "#scale latitudes and lontitudes\n",
    "original_mpdate = total['MP_DATE']\n",
    "original_lat = total['lat']\n",
    "original_lon = total['lon']\n",
    "original_lat_test = test['lat']\n",
    "original_lon_test = test['lon']\n",
    "weight = 20\n",
    "\n",
    "\n",
    "total['lat'] = weight * total['lat']\n",
    "total['lon'] = weight * total['lon']\n",
    "test['lat'] = weight * test['lat']\n",
    "test['lon'] = weight * test['lon']\n",
    "\n",
    "#set the number of ensemble samples\n",
    "s = 10 "
   ]
  },
  {
   "cell_type": "code",
   "execution_count": 59,
   "metadata": {
    "collapsed": false
   },
   "outputs": [
    {
     "name": "stdout",
     "output_type": "stream",
     "text": [
      "Current Block Size: 0\n"
     ]
    },
    {
     "ename": "ZeroDivisionError",
     "evalue": "float division by zero",
     "output_type": "error",
     "traceback": [
      "\u001b[0;31m---------------------------------------------------------------------------\u001b[0m",
      "\u001b[0;31mZeroDivisionError\u001b[0m                         Traceback (most recent call last)",
      "\u001b[0;32m<ipython-input-59-e0a47262ab78>\u001b[0m in \u001b[0;36m<module>\u001b[0;34m()\u001b[0m\n\u001b[1;32m      5\u001b[0m     \u001b[1;32mfor\u001b[0m \u001b[0mj\u001b[0m \u001b[1;32min\u001b[0m \u001b[0mrange\u001b[0m\u001b[1;33m(\u001b[0m\u001b[0mnum_tract\u001b[0m\u001b[1;33m)\u001b[0m\u001b[1;33m:\u001b[0m\u001b[1;33m\u001b[0m\u001b[0m\n\u001b[1;32m      6\u001b[0m         \u001b[0msub_data\u001b[0m \u001b[1;33m=\u001b[0m \u001b[0mtotal\u001b[0m\u001b[1;33m.\u001b[0m\u001b[0miloc\u001b[0m\u001b[1;33m[\u001b[0m\u001b[1;36m63\u001b[0m\u001b[1;33m*\u001b[0m\u001b[0mj\u001b[0m\u001b[1;33m:\u001b[0m\u001b[1;36m63\u001b[0m\u001b[1;33m*\u001b[0m\u001b[1;33m(\u001b[0m\u001b[0mj\u001b[0m\u001b[1;33m+\u001b[0m\u001b[1;36m1\u001b[0m\u001b[1;33m)\u001b[0m\u001b[1;33m]\u001b[0m\u001b[1;33m\u001b[0m\u001b[0m\n\u001b[0;32m----> 7\u001b[0;31m         \u001b[0mbs\u001b[0m \u001b[1;33m=\u001b[0m \u001b[0mStationaryBootstrap\u001b[0m\u001b[1;33m(\u001b[0m\u001b[0mblocksize\u001b[0m\u001b[1;33m,\u001b[0m \u001b[0msub_data\u001b[0m\u001b[1;33m)\u001b[0m\u001b[1;33m\u001b[0m\u001b[0m\n\u001b[0m\u001b[1;32m      8\u001b[0m         \u001b[1;32mif\u001b[0m \u001b[0mj\u001b[0m \u001b[1;33m==\u001b[0m \u001b[1;36m0\u001b[0m\u001b[1;33m:\u001b[0m\u001b[1;33m\u001b[0m\u001b[0m\n\u001b[1;32m      9\u001b[0m             \u001b[0mtrain_lst\u001b[0m \u001b[1;33m=\u001b[0m \u001b[1;33m[\u001b[0m\u001b[0mdata\u001b[0m\u001b[1;33m[\u001b[0m\u001b[1;36m0\u001b[0m\u001b[1;33m]\u001b[0m\u001b[1;33m[\u001b[0m\u001b[1;36m0\u001b[0m\u001b[1;33m]\u001b[0m \u001b[1;32mfor\u001b[0m \u001b[0mdata\u001b[0m \u001b[1;32min\u001b[0m \u001b[0mbs\u001b[0m\u001b[1;33m.\u001b[0m\u001b[0mbootstrap\u001b[0m\u001b[1;33m(\u001b[0m\u001b[1;36m10\u001b[0m\u001b[1;33m)\u001b[0m\u001b[1;33m]\u001b[0m\u001b[1;33m\u001b[0m\u001b[0m\n",
      "\u001b[0;32mC:\\Users\\green\\Anaconda3\\lib\\site-packages\\arch\\bootstrap\\base.py\u001b[0m in \u001b[0;36m__init__\u001b[0;34m(self, block_size, *args, **kwargs)\u001b[0m\n\u001b[1;32m    967\u001b[0m         \u001b[0msuper\u001b[0m\u001b[1;33m(\u001b[0m\u001b[0mStationaryBootstrap\u001b[0m\u001b[1;33m,\u001b[0m \u001b[0mself\u001b[0m\u001b[1;33m)\u001b[0m\u001b[1;33m.\u001b[0m\u001b[0m__init__\u001b[0m\u001b[1;33m(\u001b[0m\u001b[0mblock_size\u001b[0m\u001b[1;33m,\u001b[0m \u001b[1;33m*\u001b[0m\u001b[0margs\u001b[0m\u001b[1;33m,\u001b[0m \u001b[1;33m**\u001b[0m\u001b[0mkwargs\u001b[0m\u001b[1;33m)\u001b[0m\u001b[1;33m\u001b[0m\u001b[0m\n\u001b[1;32m    968\u001b[0m         \u001b[0mself\u001b[0m\u001b[1;33m.\u001b[0m\u001b[0m_name\u001b[0m \u001b[1;33m=\u001b[0m \u001b[1;34m'Stationary Bootstrap'\u001b[0m\u001b[1;33m\u001b[0m\u001b[0m\n\u001b[0;32m--> 969\u001b[0;31m         \u001b[0mself\u001b[0m\u001b[1;33m.\u001b[0m\u001b[0m_p\u001b[0m \u001b[1;33m=\u001b[0m \u001b[1;36m1.0\u001b[0m \u001b[1;33m/\u001b[0m \u001b[0mblock_size\u001b[0m\u001b[1;33m\u001b[0m\u001b[0m\n\u001b[0m\u001b[1;32m    970\u001b[0m         \u001b[0mself\u001b[0m\u001b[1;33m.\u001b[0m\u001b[0m_name\u001b[0m \u001b[1;33m=\u001b[0m \u001b[1;34m'Stationary Bootstrap'\u001b[0m\u001b[1;33m\u001b[0m\u001b[0m\n\u001b[1;32m    971\u001b[0m \u001b[1;33m\u001b[0m\u001b[0m\n",
      "\u001b[0;31mZeroDivisionError\u001b[0m: float division by zero"
     ]
    }
   ],
   "source": [
    "for blocksize in range(25):\n",
    "    print(\"Current Block Size: \"+str(blocksize))\n",
    "    \n",
    "    #get 10 block bootstrapping samples\n",
    "    for j in range(num_tract):\n",
    "        sub_data = total.iloc[63*j:63*(j+1)]\n",
    "        bs = StationaryBootstrap(blocksize, sub_data)\n",
    "        if j == 0:\n",
    "            train_lst = [data[0][0] for data in bs.bootstrap(s)]\n",
    "        else:\n",
    "            i = 0\n",
    "            for data in bs.bootstrap(s):\n",
    "                train_lst[i] = train_lst[i].append(data[0][0])\n",
    "                i += 1\n",
    "    print(\"Finish Bootstrapping\")\n",
    "\n",
    "    #find best k for each bootstrapping sample --> model parameter\n",
    "    best_k_lst = []\n",
    "    best_mae_lst = []\n",
    "    symbol_lst = []\n",
    "    y_ = []\n",
    "    loss_per_tract = []\n",
    "    for i in range(10):\n",
    "        train_y = train_lst[i]['dv'] #get dependent variable\n",
    "        train_x = train_lst[i].drop(train_lst[i].columns[3], axis = 1) #delete dependent variables\n",
    "\n",
    "        best_mae = sys.maxsize\n",
    "        for k in range(1, 11, 1):\n",
    "            knn = neighbors.KNeighborsRegressor(k, weights ='distance')\n",
    "            y_ = []\n",
    "            y_mean = 0\n",
    "            y_symbol = 0\n",
    "            mae_tract_k = []\n",
    "            cv_times = range(50,62)\n",
    "        \n",
    "            for cv_time in cv_times:\n",
    "                train_id = list(chain.from_iterable([list(range(63*k,(63*k+cv_time))) for k in range(num_tract)]))\n",
    "                test_id = [63*k+cv_time for k in range(num_tract)]\n",
    "\n",
    "                y_predict = knn.fit(train_x.iloc[train_id], train_y.iloc[train_id]).predict(train_x.iloc[test_id])\n",
    "                y_ += [y_predict]\n",
    "                mae_tract_k += [abs(y_predict - train_y.iloc[test_id])]\n",
    "                mae = np.mean(abs(y_predict - train_y.iloc[test_id]))\n",
    "                y_mean += mae\n",
    "                y_symbol += sum(y_predict*train_y.iloc[test_id]>=0)/len(y_predict)\n",
    "        \n",
    "            mae_tract_k = np.array(mae_tract_k)\n",
    "            mae_tract_k = list(np.mean(mae_tract_k,axis=0))\n",
    "            y_mean = y_mean / len(cv_times)\n",
    "            y_symbol = y_symbol / len(cv_times)\n",
    "            if y_mean < best_mae:\n",
    "                best_mae = y_mean\n",
    "                best_k = k\n",
    "                symbol = y_symbol\n",
    "                mae_tract = mae_tract_k\n",
    "                print((i, k, best_mae))\n",
    "            \n",
    "        loss_per_tract.append([mae_tract])\n",
    "        best_mae_lst.append(best_mae)\n",
    "        best_k_lst.append(best_k)\n",
    "        symbol_lst.append(symbol)\n",
    "    \n",
    "    loss_per_tract = np.array(loss_per_tract)\n",
    "    loss_per_tract = list(np.mean(loss_per_tract,axis=0))\n"
   ]
  },
  {
   "cell_type": "code",
   "execution_count": 69,
   "metadata": {
    "collapsed": false
   },
   "outputs": [
    {
     "name": "stdout",
     "output_type": "stream",
     "text": [
      "Finish Bootstrapping\n"
     ]
    }
   ],
   "source": [
    "blocksize = 12\n",
    "#get 10 block bootstrapping samples\n",
    "for j in range(num_tract):\n",
    "    sub_data = total.iloc[63*j:63*(j+1)]\n",
    "    bs = StationaryBootstrap(blocksize, sub_data)\n",
    "    if j == 0:\n",
    "        train_lst = [data[0][0] for data in bs.bootstrap(s)]\n",
    "    else:\n",
    "        i = 0\n",
    "        for data in bs.bootstrap(s):\n",
    "            train_lst[i] = train_lst[i].append(data[0][0])\n",
    "            i += 1\n",
    "print(\"Finish Bootstrapping\")"
   ]
  },
  {
   "cell_type": "code",
   "execution_count": 70,
   "metadata": {
    "collapsed": false
   },
   "outputs": [
    {
     "name": "stdout",
     "output_type": "stream",
     "text": [
      "(0, 1, 2.0042702380669906)\n",
      "(1, 1, 1.3582520897381214)\n",
      "(2, 1, 1.9353744047775405)\n",
      "(2, 2, 1.8110884286415498)\n",
      "(2, 4, 1.7768986481332638)\n",
      "(3, 1, 1.3793996968673088)\n",
      "(3, 2, 1.2978307693996636)\n",
      "(4, 1, 2.608210511987217)\n",
      "(4, 2, 2.169623252729781)\n",
      "(4, 3, 2.042451293427677)\n",
      "(5, 1, 2.2497885485534135)\n",
      "(5, 2, 2.0948967685859112)\n",
      "(6, 1, 3.056937774015045)\n",
      "(6, 2, 3.0477063315162387)\n",
      "(7, 1, 1.6545803263847552)\n",
      "(8, 1, 1.4813951392644915)\n",
      "(9, 1, 1.9544616863257618)\n",
      "(9, 2, 1.7384507193036287)\n",
      "(9, 3, 1.7121985647871238)\n"
     ]
    }
   ],
   "source": [
    "#find best k for each bootstrapping sample --> model parameter\n",
    "best_k_lst = []\n",
    "best_mae_lst = []\n",
    "symbol_lst = []\n",
    "y_ = []\n",
    "loss_per_tract = []\n",
    "for i in range(10):\n",
    "    train_y = train_lst[i]['dv'] #get dependent variable\n",
    "    train_x = train_lst[i].drop(train_lst[i].columns[3], axis = 1) #delete dependent variables\n",
    "\n",
    "    best_mae = sys.maxsize\n",
    "    for k in range(1, 11, 1):\n",
    "        knn = neighbors.KNeighborsRegressor(k, weights ='distance')\n",
    "        y_ = []\n",
    "        y_mean = 0\n",
    "        y_symbol = 0\n",
    "        mae_tract_k = []\n",
    "        cv_times = range(50,62)\n",
    "        \n",
    "        for cv_time in cv_times:\n",
    "            train_id = list(chain.from_iterable([list(range(63*k,(63*k+cv_time))) for k in range(num_tract)]))\n",
    "            test_id = [63*k+cv_time for k in range(num_tract)]\n",
    "            #print(test_id)\n",
    "            y_predict = knn.fit(train_x.iloc[train_id], train_y.iloc[train_id]).predict(train_x.iloc[test_id])\n",
    "            y_ += [y_predict]\n",
    "            mae_tract_k += [abs(y_predict - train_y.iloc[test_id])]\n",
    "            mae = np.mean(abs(y_predict - train_y.iloc[test_id]))\n",
    "            y_mean += mae\n",
    "            y_symbol += sum(y_predict*train_y.iloc[test_id]>=0)/len(y_predict)\n",
    "        \n",
    "        mae_tract_k = np.array(mae_tract_k)\n",
    "        mae_tract_k = list(np.mean(mae_tract_k,axis=0))\n",
    "        y_mean = y_mean / len(cv_times)\n",
    "        y_symbol = y_symbol / len(cv_times)\n",
    "        if y_mean < best_mae:\n",
    "            best_mae = y_mean\n",
    "            best_k = k\n",
    "            symbol = y_symbol\n",
    "            mae_tract = mae_tract_k\n",
    "            print((i, k, best_mae))\n",
    "            \n",
    "    loss_per_tract.append([mae_tract])\n",
    "    best_mae_lst.append(best_mae)\n",
    "    best_k_lst.append(best_k)\n",
    "    symbol_lst.append(symbol)\n",
    "    \n",
    "loss_per_tract = np.array(loss_per_tract)\n",
    "loss_per_tract = list(np.mean(loss_per_tract,axis=0))"
   ]
  },
  {
   "cell_type": "code",
   "execution_count": 71,
   "metadata": {
    "collapsed": false
   },
   "outputs": [
    {
     "data": {
      "text/plain": [
       "[1, 1, 4, 2, 3, 2, 2, 1, 1, 3]"
      ]
     },
     "execution_count": 71,
     "metadata": {},
     "output_type": "execute_result"
    }
   ],
   "source": [
    "best_k_lst"
   ]
  },
  {
   "cell_type": "code",
   "execution_count": 72,
   "metadata": {
    "collapsed": false
   },
   "outputs": [
    {
     "data": {
      "image/png": "[encoded data removed]",
      "text/plain": [
       "<matplotlib.figure.Figure at 0x204ef1a6f98>"
      ]
     },
     "metadata": {},
     "output_type": "display_data"
    },
    {
     "data": {
      "image/png": "[encoded data removed]",
      "text/plain": [
       "<matplotlib.figure.Figure at 0x204ec930240>"
      ]
     },
     "metadata": {},
     "output_type": "display_data"
    }
   ],
   "source": [
    "loss_per_tract_final = loss_per_tract[0]\n",
    "loss_per_tract_final = sorted(loss_per_tract_final,reverse=True)\n",
    "\n",
    "import matplotlib.pyplot as plt\n",
    "plt.bar(range(len(loss_per_tract_final)),loss_per_tract_final,width=1)\n",
    "plt.show()"
   ]
  },
  {
   "cell_type": "code",
   "execution_count": 73,
   "metadata": {
    "collapsed": false
   },
   "outputs": [
    {
     "data": {
      "text/plain": [
       "0.96063708759954503"
      ]
     },
     "execution_count": 73,
     "metadata": {},
     "output_type": "execute_result"
    }
   ],
   "source": [
    "#draw correct rate\n",
    "plt.figure(figsize=(8,6), dpi=60)\n",
    "plt.plot(range(10), symbol_lst, 'k')\n",
    "plt.savefig(\"final_results/accuracy.png\", dpi = 60)\n",
    "np.mean(symbol_lst)"
   ]
  },
  {
   "cell_type": "code",
   "execution_count": null,
   "metadata": {
    "collapsed": false
   },
   "outputs": [
    {
     "data": {
      "text/plain": [
       "1.8470480169304235"
      ]
     },
     "execution_count": 74,
     "metadata": {},
     "output_type": "execute_result"
    }
   ],
   "source": [
    "#draw MAE\n",
    "plt.figure(figsize=(8,6), dpi=60)\n",
    "plt.plot(range(10), best_mae_lst, 'k')\n",
    "plt.savefig(\"final_results/MAE.png\", dpi = 60)\n",
    "np.mean(best_mae_lst)"
   ]
  },
  {
   "cell_type": "code",
   "execution_count": 65,
   "metadata": {
    "collapsed": true
   },
   "outputs": [],
   "source": [
    "#train_lst_origin = train_lst"
   ]
  },
  {
   "cell_type": "code",
   "execution_count": null,
   "metadata": {
    "collapsed": false
   },
   "outputs": [
    {
     "name": "stdout",
     "output_type": "stream",
     "text": [
      "(0, 0, 110754)\n",
      "(0, 1, 110754)\n",
      "(0, 2, 110754)\n",
      "(0, 3, 110754)\n",
      "(0, 4, 110754)\n",
      "(0, 5, 110754)\n",
      "(0, 6, 110754)\n",
      "(0, 7, 110754)\n",
      "(0, 8, 110754)\n",
      "(0, 9, 110754)\n",
      "(1, 0, 112512)\n",
      "(1, 1, 112512)\n",
      "(1, 2, 112512)\n",
      "(1, 3, 112512)\n",
      "(1, 4, 112512)\n",
      "(1, 5, 112512)\n",
      "(1, 6, 112512)\n",
      "(1, 7, 112512)\n",
      "(1, 8, 112512)\n",
      "(1, 9, 112512)\n",
      "(2, 0, 114270)\n",
      "(2, 1, 114270)\n",
      "(2, 2, 114270)\n",
      "(2, 3, 114270)\n",
      "(2, 4, 114270)\n",
      "(2, 5, 114270)\n",
      "(2, 6, 114270)\n",
      "(2, 7, 114270)\n",
      "(2, 8, 114270)\n",
      "(2, 9, 114270)\n",
      "(3, 0, 116028)\n",
      "(3, 1, 116028)\n",
      "(3, 2, 116028)\n",
      "(3, 3, 116028)\n",
      "(3, 4, 116028)\n",
      "(3, 5, 116028)\n",
      "(3, 6, 116028)\n"
     ]
    }
   ],
   "source": [
    "#get predictions\n",
    "y_pre_lst = []\n",
    "y_final_pre = []\n",
    "test_times = range(0,12)\n",
    "for test_time in test_times:\n",
    "    test_id = [12*k+test_time for k in range(num_tract)]\n",
    "    y_pre_k = []\n",
    "    #print(test_id)\n",
    "    \n",
    "    \n",
    "    for i in range(10):\n",
    "        train_y = train_lst[i]['dv'] #get dependent variable\n",
    "        #print(train_y.shape[0])\n",
    "        train_x = train_lst[i].drop(train_lst[i].columns[3], axis = 1) #delete dependent variables\n",
    "        #print(train_x.shape[0])\n",
    "        knn = neighbors.KNeighborsRegressor(best_k_lst[i], weights ='distance')\n",
    "        y_pre = knn.fit(train_x, train_y).predict(test.iloc[test_id])\n",
    "        y_pre_k += [y_pre]\n",
    "        \n",
    "        print((test_time,i,train_x.shape[0]))\n",
    "       \n",
    "        \n",
    "        for j in range(num_tract):\n",
    "            insert = []\n",
    "            insert += list(test.iloc[test_id[j]])\n",
    "            insert.append(y_pre[j])\n",
    "            train_lst[i].loc[train_x.shape[0]+j] = insert\n",
    "\n",
    "        \n",
    "       \n",
    "    \n",
    "    y_pre_tract = np.array(y_pre_k)\n",
    "    y_pre_tract = list(np.mean(y_pre_tract,axis=0))\n",
    "    y_final_pre.append([y_pre_tract])\n",
    "    \n",
    "    #for i in range(num_tract):\n",
    "    #    train_x\n",
    "        \n",
    "    #    y_pre_lst.append(y_pre)\n",
    "    #y_pre_mat = np.array(y_pre_lst)\n",
    "    #y_final_pre = np.mean(y_pre_mat, 0)"
   ]
  },
  {
   "cell_type": "code",
   "execution_count": 67,
   "metadata": {
    "collapsed": true
   },
   "outputs": [],
   "source": [
    "y_final_pre = []\n",
    "y_final_pre.append([y_pre_tract])"
   ]
  },
  {
   "cell_type": "code",
   "execution_count": 33,
   "metadata": {
    "collapsed": false,
    "scrolled": true
   },
   "outputs": [
    {
     "ename": "NameError",
     "evalue": "name 'y_final_pre' is not defined",
     "output_type": "error",
     "traceback": [
      "\u001b[0;31m---------------------------------------------------------------------------\u001b[0m",
      "\u001b[0;31mNameError\u001b[0m                                 Traceback (most recent call last)",
      "\u001b[0;32m<ipython-input-33-67044c3e7ed5>\u001b[0m in \u001b[0;36m<module>\u001b[0;34m()\u001b[0m\n\u001b[1;32m      3\u001b[0m     \u001b[0mfilename\u001b[0m \u001b[1;33m=\u001b[0m \u001b[1;34m\"final_results/figure/%d.png\"\u001b[0m \u001b[1;33m%\u001b[0m \u001b[0mi\u001b[0m\u001b[1;33m\u001b[0m\u001b[0m\n\u001b[1;32m      4\u001b[0m     \u001b[0mplt\u001b[0m\u001b[1;33m.\u001b[0m\u001b[0mfigure\u001b[0m\u001b[1;33m(\u001b[0m\u001b[0mfigsize\u001b[0m\u001b[1;33m=\u001b[0m\u001b[1;33m(\u001b[0m\u001b[1;36m8\u001b[0m\u001b[1;33m,\u001b[0m\u001b[1;36m6\u001b[0m\u001b[1;33m)\u001b[0m\u001b[1;33m,\u001b[0m \u001b[0mdpi\u001b[0m\u001b[1;33m=\u001b[0m\u001b[1;36m60\u001b[0m\u001b[1;33m)\u001b[0m\u001b[1;33m\u001b[0m\u001b[0m\n\u001b[0;32m----> 5\u001b[0;31m     \u001b[0mplt\u001b[0m\u001b[1;33m.\u001b[0m\u001b[0mplot\u001b[0m\u001b[1;33m(\u001b[0m\u001b[0mrange\u001b[0m\u001b[1;33m(\u001b[0m\u001b[1;36m12\u001b[0m\u001b[1;33m)\u001b[0m\u001b[1;33m,\u001b[0m \u001b[0my_final_pre\u001b[0m\u001b[1;33m[\u001b[0m\u001b[0mi\u001b[0m\u001b[1;33m*\u001b[0m\u001b[1;36m12\u001b[0m\u001b[1;33m:\u001b[0m\u001b[1;33m(\u001b[0m\u001b[0mi\u001b[0m\u001b[1;33m+\u001b[0m\u001b[1;36m1\u001b[0m\u001b[1;33m)\u001b[0m\u001b[1;33m*\u001b[0m\u001b[1;36m12\u001b[0m\u001b[1;33m]\u001b[0m\u001b[1;33m,\u001b[0m \u001b[1;34m'k'\u001b[0m\u001b[1;33m)\u001b[0m\u001b[1;33m\u001b[0m\u001b[0m\n\u001b[0m\u001b[1;32m      6\u001b[0m     \u001b[0mplt\u001b[0m\u001b[1;33m.\u001b[0m\u001b[0msavefig\u001b[0m\u001b[1;33m(\u001b[0m\u001b[0mfilename\u001b[0m\u001b[1;33m,\u001b[0m \u001b[0mdpi\u001b[0m \u001b[1;33m=\u001b[0m \u001b[1;36m60\u001b[0m\u001b[1;33m)\u001b[0m\u001b[1;33m\u001b[0m\u001b[0m\n",
      "\u001b[0;31mNameError\u001b[0m: name 'y_final_pre' is not defined"
     ]
    }
   ],
   "source": [
    "# draw graphs to show predictions of each tract\n",
    "for i in range(1758):\n",
    "    filename = \"final_results/figure/%d.png\" % i\n",
    "    plt.figure(figsize=(8,6), dpi=60)\n",
    "    plt.plot(range(12), y_final_pre[i*12:(i+1)*12], 'k')\n",
    "    plt.savefig(filename, dpi = 60)"
   ]
  },
  {
   "cell_type": "code",
   "execution_count": 90,
   "metadata": {
    "collapsed": false
   },
   "outputs": [],
   "source": [
    "#output average increase rates for each tract\n",
    "unique_tract = list((set(tract_id)))\n",
    "tract_rate = []\n",
    "for i in range(1758):\n",
    "    future_rate = y_final_pre[i*12:(i+1)*12]\n",
    "    tract_rate.append(np.mean(future_rate))\n",
    "data = {'Future Annual Increase Rate': tract_rate,\n",
    "        'TRACT_GEOID': unique_tract}\n",
    "df = pd.DataFrame(data, index = range(1, 1759, 1))\n",
    "df.to_csv('final_results/final_prediction.csv')"
   ]
  },
  {
   "cell_type": "code",
   "execution_count": 91,
   "metadata": {
    "collapsed": false
   },
   "outputs": [],
   "source": [
    "# final recommendations\n",
    "recommend = dict()\n",
    "recommend['invest'] = []\n",
    "recommend['hold'] = []\n",
    "recommend['divest'] = []\n",
    "unique_tract = list((set(tract_id)))\n",
    "tract_rate = []\n",
    "for i in range(1758):\n",
    "    future_rate = y_final_pre[i*12:(i+1)*12]\n",
    "    tract_rate.append(np.mean(future_rate))\n",
    "    if future_rate[1] < future_rate[0]:\n",
    "        recommend['divest'].append(unique_tract[i])\n",
    "    elif future_rate[0] > 0.2:\n",
    "        recommend['invest'].append(unique_tract[i])\n",
    "    else:\n",
    "        recommend['hold'].append(unique_tract[i])"
   ]
  },
  {
   "cell_type": "code",
   "execution_count": 100,
   "metadata": {
    "collapsed": false
   },
   "outputs": [],
   "source": [
    "#output invest decisions for each tract\n",
    "n_1 = len(recommend['divest'])\n",
    "n_2 = len(recommend['hold'])\n",
    "n_3 = len(recommend['invest'])\n",
    "n_max = max(n_1, n_2, n_3)\n",
    "for i in range(n_max - n_2):\n",
    "    recommend['hold'].append(0)\n",
    "for i in range(n_max - n_3):\n",
    "    recommend['invest'].append(0)\n",
    "df_2 = pd.DataFrame(recommend, index = range(1, n_max+1, 1))\n",
    "df_2.to_csv('invest_decisions.csv')"
   ]
  },
  {
   "cell_type": "code",
   "execution_count": 103,
   "metadata": {
    "collapsed": false
   },
   "outputs": [],
   "source": [
    "new_df = dict()\n",
    "for tract in unique_tract:\n",
    "    if tract in recommend['invest']:\n",
    "        new_df[tract] = 3\n",
    "    elif tract in recommend['hold']:\n",
    "        new_df[tract] = 2\n",
    "    else:\n",
    "        new_df[tract] = 1\n",
    "final_df = dict()\n",
    "final_df['GEOID'] = [k for k in new_df.keys()]\n",
    "final_df['decision'] = [v for v in new_df.values()]"
   ]
  },
  {
   "cell_type": "code",
   "execution_count": 105,
   "metadata": {
    "collapsed": true
   },
   "outputs": [],
   "source": [
    "df_3 = pd.DataFrame(final_df, index = range(1, 1759, 1))\n",
    "df_3.to_csv('final_results/tract_decisions.csv')"
   ]
  },
  {
   "cell_type": "code",
   "execution_count": 108,
   "metadata": {
    "collapsed": false
   },
   "outputs": [
    {
     "data": {
      "text/plain": [
       "0       -1477.671380\n",
       "1       -1477.671380\n",
       "2       -1477.671380\n",
       "3       -1477.671380\n",
       "4       -1477.671380\n",
       "5       -1477.671380\n",
       "6       -1477.671380\n",
       "7       -1477.671380\n",
       "8       -1477.671380\n",
       "9       -1477.671380\n",
       "10      -1477.671380\n",
       "11      -1477.671380\n",
       "12      -1478.192430\n",
       "13      -1478.192430\n",
       "14      -1478.192430\n",
       "15      -1478.192430\n",
       "16      -1478.192430\n",
       "17      -1478.192430\n",
       "18      -1478.192430\n",
       "19      -1478.192430\n",
       "20      -1478.192430\n",
       "21      -1478.192430\n",
       "22      -1478.192430\n",
       "23      -1478.192430\n",
       "24      -1478.515976\n",
       "25      -1478.515976\n",
       "26      -1478.515976\n",
       "27      -1478.515976\n",
       "28      -1478.515976\n",
       "29      -1478.515976\n",
       "            ...     \n",
       "21066   -1483.266650\n",
       "21067   -1483.266650\n",
       "21068   -1483.266650\n",
       "21069   -1483.266650\n",
       "21070   -1483.266650\n",
       "21071   -1483.266650\n",
       "21072   -1483.311741\n",
       "21073   -1483.311741\n",
       "21074   -1483.311741\n",
       "21075   -1483.311741\n",
       "21076   -1483.311741\n",
       "21077   -1483.311741\n",
       "21078   -1483.311741\n",
       "21079   -1483.311741\n",
       "21080   -1483.311741\n",
       "21081   -1483.311741\n",
       "21082   -1483.311741\n",
       "21083   -1483.311741\n",
       "21084   -1483.574703\n",
       "21085   -1483.574703\n",
       "21086   -1483.574703\n",
       "21087   -1483.574703\n",
       "21088   -1483.574703\n",
       "21089   -1483.574703\n",
       "21090   -1483.574703\n",
       "21091   -1483.574703\n",
       "21092   -1483.574703\n",
       "21093   -1483.574703\n",
       "21094   -1483.574703\n",
       "21095   -1483.574703\n",
       "Name: lon, dtype: float64"
      ]
     },
     "execution_count": 108,
     "metadata": {},
     "output_type": "execute_result"
    }
   ],
   "source": [
    "test['lon']"
   ]
  }
 ],
 "metadata": {
  "anaconda-cloud": {},
  "kernelspec": {
   "display_name": "Python [default]",
   "language": "python",
   "name": "python3"
  },
  "language_info": {
   "codemirror_mode": {
    "name": "ipython",
    "version": 3
   },
   "file_extension": ".py",
   "mimetype": "text/x-python",
   "name": "python",
   "nbconvert_exporter": "python",
   "pygments_lexer": "ipython3",
   "version": "3.5.2"
  }
 },
 "nbformat": 4,
 "nbformat_minor": 1
}
